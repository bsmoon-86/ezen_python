{
 "cells": [
  {
   "cell_type": "markdown",
   "metadata": {},
   "source": [
    "# 제목1\n",
    "## 제목2\n",
    "### 제목3\n",
    "\n",
    "### 순서형 리스트\n",
    "1. 리스트1\n",
    "2. 리스트2\n",
    "3. 리스트3\n",
    "\n",
    "### 비순서형 리스트 \n",
    "- 리스트1\n",
    "- 리스트2\n",
    "- 리스트3"
   ]
  },
  {
   "cell_type": "code",
   "execution_count": 1,
   "metadata": {},
   "outputs": [],
   "source": [
    "# 주석\n",
    "# 코드에 대한 설명을 적는 부분 \n",
    "\n",
    "# 변수 생성\n",
    "a = 10\n",
    "b = \"test\""
   ]
  },
  {
   "cell_type": "code",
   "execution_count": 2,
   "metadata": {},
   "outputs": [
    {
     "name": "stdout",
     "output_type": "stream",
     "text": [
      "10\n"
     ]
    }
   ],
   "source": [
    "print(a)"
   ]
  },
  {
   "cell_type": "code",
   "execution_count": 3,
   "metadata": {},
   "outputs": [
    {
     "data": {
      "text/plain": [
       "'test'"
      ]
     },
     "execution_count": 3,
     "metadata": {},
     "output_type": "execute_result"
    }
   ],
   "source": [
    "b"
   ]
  },
  {
   "cell_type": "code",
   "execution_count": 4,
   "metadata": {},
   "outputs": [
    {
     "data": {
      "text/plain": [
       "'test'"
      ]
     },
     "execution_count": 4,
     "metadata": {},
     "output_type": "execute_result"
    }
   ],
   "source": [
    "a\n",
    "b"
   ]
  },
  {
   "cell_type": "code",
   "execution_count": 5,
   "metadata": {},
   "outputs": [
    {
     "name": "stdout",
     "output_type": "stream",
     "text": [
      "10\n",
      "test\n"
     ]
    }
   ],
   "source": [
    "print(a)\n",
    "print(b)"
   ]
  },
  {
   "cell_type": "code",
   "execution_count": 6,
   "metadata": {},
   "outputs": [
    {
     "name": "stdout",
     "output_type": "stream",
     "text": [
      "<class 'int'>\n",
      "<class 'str'>\n"
     ]
    }
   ],
   "source": [
    "print(type(a))\n",
    "print(type(b))"
   ]
  },
  {
   "cell_type": "code",
   "execution_count": 7,
   "metadata": {},
   "outputs": [],
   "source": [
    "c = \"010\""
   ]
  },
  {
   "cell_type": "code",
   "execution_count": 8,
   "metadata": {},
   "outputs": [
    {
     "name": "stdout",
     "output_type": "stream",
     "text": [
      "010\n",
      "<class 'str'>\n"
     ]
    }
   ],
   "source": [
    "print(c)\n",
    "print(type(c))"
   ]
  },
  {
   "cell_type": "code",
   "execution_count": 11,
   "metadata": {},
   "outputs": [
    {
     "name": "stdout",
     "output_type": "stream",
     "text": [
      "True\n",
      "<class 'bool'>\n"
     ]
    }
   ],
   "source": [
    "# 불형 데이터 생성\n",
    "# 참, 거짓 형태\n",
    "a = True\n",
    "print(a)\n",
    "print(type(a))"
   ]
  },
  {
   "cell_type": "code",
   "execution_count": 12,
   "metadata": {},
   "outputs": [
    {
     "name": "stdout",
     "output_type": "stream",
     "text": [
      "10\n",
      "4\n",
      "21\n",
      "2.3333333333333335\n",
      "2\n",
      "1\n",
      "343\n"
     ]
    }
   ],
   "source": [
    "# 산술 연산자\n",
    "a = 7\n",
    "b = 3\n",
    "\n",
    "print(a + b)\n",
    "print(a - b)\n",
    "print(a * b)\n",
    "print(a / b)\n",
    "print(a // b)\n",
    "print(a % b)\n",
    "print(a ** b)"
   ]
  },
  {
   "cell_type": "code",
   "execution_count": 13,
   "metadata": {},
   "outputs": [
    {
     "name": "stdout",
     "output_type": "stream",
     "text": [
      "8.5\n",
      "5.0\n"
     ]
    }
   ],
   "source": [
    "# 산술 연산자의 우선순위\n",
    "c = 2\n",
    "\n",
    "print(a + b / c)\n",
    "print( (a + b) / c )"
   ]
  },
  {
   "cell_type": "code",
   "execution_count": 14,
   "metadata": {},
   "outputs": [
    {
     "name": "stdout",
     "output_type": "stream",
     "text": [
      "10\n",
      "8\n",
      "40\n"
     ]
    }
   ],
   "source": [
    "# 대입연산자 ( +=, -=, *=, /=, //=, %=, **= )\n",
    "a += 3\n",
    "# a = a + 3\n",
    "# a = 7 + 3\n",
    "print(a) # 10\n",
    "a -= 2\n",
    "# a = 10 - 2\n",
    "print(a) # 8\n",
    "a *= 5\n",
    "# a = 8 * 5\n",
    "print(a) # 40"
   ]
  },
  {
   "cell_type": "markdown",
   "metadata": {},
   "source": [
    "### 조건문 \n",
    "- 조건식이 참인 경우와 거짓인 경우 실행할 코드를 따로 작성 "
   ]
  },
  {
   "cell_type": "code",
   "execution_count": 16,
   "metadata": {},
   "outputs": [],
   "source": [
    "# if문\n",
    "a = 11\n",
    "\n",
    "# a가 10보다 작은가?\n",
    "if a < 10:\n",
    "    print(\"a는 10보다 작다\")"
   ]
  },
  {
   "cell_type": "code",
   "execution_count": 17,
   "metadata": {},
   "outputs": [
    {
     "name": "stdout",
     "output_type": "stream",
     "text": [
      "a는 10보다 크거나 같다\n"
     ]
    }
   ],
   "source": [
    "# if ~ else 문\n",
    "# 조건식이 참인 경우와 거짓인 경우 코드를 작성\n",
    "a = 20\n",
    "\n",
    "if a < 10:\n",
    "    print('a는 10보다 작다')\n",
    "else:\n",
    "    print('a는 10보다 크거나 같다')"
   ]
  },
  {
   "cell_type": "code",
   "execution_count": 21,
   "metadata": {},
   "outputs": [
    {
     "name": "stdout",
     "output_type": "stream",
     "text": [
      "62\n",
      "D\n",
      "프로그램 종료\n"
     ]
    }
   ],
   "source": [
    "# 조건식이 여러개인 경우 \n",
    "# input()은 유저가 값을 입력 할 수 있도록 창을 만들어준다. \n",
    "score = int(input(\"점수를 입력하시오\"))\n",
    "print(score)\n",
    "\n",
    "# score가 90이상이라면\n",
    "if score >= 90:\n",
    "    print('A')\n",
    "# score가 80이상이고 90 미만이라면\n",
    "elif score >= 80:\n",
    "    print('B')\n",
    "# score가 70이상이고 80 미만이라면\n",
    "elif score >= 70:\n",
    "    print('C')\n",
    "# score가 60이상이고 70 미만이라면\n",
    "elif score >= 60:\n",
    "    print('D')\n",
    "# score 60 미만이라면\n",
    "else:\n",
    "    print('F')\n",
    "\n",
    "print('프로그램 종료')"
   ]
  },
  {
   "cell_type": "markdown",
   "metadata": {},
   "source": [
    "### 반복문\n",
    "- for문 \n",
    "    - 리스트의 항목의 개수만큼 반복 실행\n",
    "- while문 \n",
    "    - 해당하는 조건식이 거짓이 될때까지 반복 실행"
   ]
  },
  {
   "cell_type": "code",
   "execution_count": 22,
   "metadata": {},
   "outputs": [
    {
     "data": {
      "text/plain": [
       "[1, 2, 3, 4, 5, 6, 7, 8, 9]"
      ]
     },
     "execution_count": 22,
     "metadata": {},
     "output_type": "execute_result"
    }
   ],
   "source": [
    "# for문 기본 형태 \n",
    "# for 변수명 in range(시작값, 종료값, 증가값)\n",
    "\n",
    "list(range(1, 10, 1))"
   ]
  },
  {
   "cell_type": "code",
   "execution_count": 24,
   "metadata": {},
   "outputs": [
    {
     "name": "stdout",
     "output_type": "stream",
     "text": [
      "0 번째 반복\n",
      "2 번째 반복\n",
      "4 번째 반복\n"
     ]
    }
   ],
   "source": [
    "for i in range(0, 5, 2):\n",
    "    print(i, '번째 반복')"
   ]
  },
  {
   "cell_type": "code",
   "execution_count": 25,
   "metadata": {},
   "outputs": [
    {
     "name": "stdout",
     "output_type": "stream",
     "text": [
      "0 번째 반복\n",
      "1 번째 반복\n",
      "2 번째 반복\n",
      "3 번째 반복\n",
      "4 번째 반복\n"
     ]
    }
   ],
   "source": [
    "# range(시작값, 종료값, 증가값)\n",
    "# 시작값은 0, 증가값은 1 이 기본 값 지정\n",
    "for i in range(5):\n",
    "    print(i, '번째 반복')"
   ]
  },
  {
   "cell_type": "code",
   "execution_count": 28,
   "metadata": {},
   "outputs": [
    {
     "name": "stdout",
     "output_type": "stream",
     "text": [
      "55\n"
     ]
    }
   ],
   "source": [
    "# 1 부터 10까지의 합계\n",
    "\n",
    "# 합계의 초기값 0을 변수로 지정 \n",
    "result = 0\n",
    "\n",
    "# 1부터 10까지 반복실행하는 코드를 작성 \n",
    "for i in range(1, 11, 1):\n",
    "    # result = result + i\n",
    "    result += i\n",
    "\n",
    "print(result)"
   ]
  },
  {
   "cell_type": "code",
   "execution_count": 30,
   "metadata": {},
   "outputs": [
    {
     "name": "stdout",
     "output_type": "stream",
     "text": [
      "1 1\n",
      "1 2\n",
      "2 1\n",
      "2 2\n"
     ]
    }
   ],
   "source": [
    "# 다중 for문 \n",
    "for i in range(1, 3, 1):\n",
    "    for j in range(1, 3, 1):\n",
    "        print(i, j)"
   ]
  },
  {
   "cell_type": "code",
   "execution_count": 31,
   "metadata": {},
   "outputs": [
    {
     "name": "stdout",
     "output_type": "stream",
     "text": [
      "2 X 1 = 2\n",
      "2 X 2 = 4\n",
      "2 X 3 = 6\n",
      "2 X 4 = 8\n",
      "2 X 5 = 10\n",
      "2 X 6 = 12\n",
      "2 X 7 = 14\n",
      "2 X 8 = 16\n",
      "2 X 9 = 18\n",
      "3 X 1 = 3\n",
      "3 X 2 = 6\n",
      "3 X 3 = 9\n",
      "3 X 4 = 12\n",
      "3 X 5 = 15\n",
      "3 X 6 = 18\n",
      "3 X 7 = 21\n",
      "3 X 8 = 24\n",
      "3 X 9 = 27\n",
      "4 X 1 = 4\n",
      "4 X 2 = 8\n",
      "4 X 3 = 12\n",
      "4 X 4 = 16\n",
      "4 X 5 = 20\n",
      "4 X 6 = 24\n",
      "4 X 7 = 28\n",
      "4 X 8 = 32\n",
      "4 X 9 = 36\n",
      "5 X 1 = 5\n",
      "5 X 2 = 10\n",
      "5 X 3 = 15\n",
      "5 X 4 = 20\n",
      "5 X 5 = 25\n",
      "5 X 6 = 30\n",
      "5 X 7 = 35\n",
      "5 X 8 = 40\n",
      "5 X 9 = 45\n",
      "6 X 1 = 6\n",
      "6 X 2 = 12\n",
      "6 X 3 = 18\n",
      "6 X 4 = 24\n",
      "6 X 5 = 30\n",
      "6 X 6 = 36\n",
      "6 X 7 = 42\n",
      "6 X 8 = 48\n",
      "6 X 9 = 54\n",
      "7 X 1 = 7\n",
      "7 X 2 = 14\n",
      "7 X 3 = 21\n",
      "7 X 4 = 28\n",
      "7 X 5 = 35\n",
      "7 X 6 = 42\n",
      "7 X 7 = 49\n",
      "7 X 8 = 56\n",
      "7 X 9 = 63\n",
      "8 X 1 = 8\n",
      "8 X 2 = 16\n",
      "8 X 3 = 24\n",
      "8 X 4 = 32\n",
      "8 X 5 = 40\n",
      "8 X 6 = 48\n",
      "8 X 7 = 56\n",
      "8 X 8 = 64\n",
      "8 X 9 = 72\n",
      "9 X 1 = 9\n",
      "9 X 2 = 18\n",
      "9 X 3 = 27\n",
      "9 X 4 = 36\n",
      "9 X 5 = 45\n",
      "9 X 6 = 54\n",
      "9 X 7 = 63\n",
      "9 X 8 = 72\n",
      "9 X 9 = 81\n"
     ]
    }
   ],
   "source": [
    "# 다중 for문을 이용하여 구구단을 출력\n",
    "\n",
    "# 첫번째 반복문에서는 단 지정 \n",
    "for i in range(2, 10, 1):\n",
    "    # 단에 곱할 값을 반복\n",
    "    for j in range(1, 10, 1):\n",
    "        print(i, 'X', j, '=', i*j)"
   ]
  },
  {
   "cell_type": "code",
   "execution_count": 33,
   "metadata": {},
   "outputs": [
    {
     "name": "stdout",
     "output_type": "stream",
     "text": [
      "1\n",
      "2\n",
      "3\n",
      "4\n",
      "5\n"
     ]
    }
   ],
   "source": [
    "# while문 \n",
    "\n",
    "# 시작값을 지정 \n",
    "i = 0\n",
    "\n",
    "# while 조건식 \n",
    "while i < 5:\n",
    "    # 증감식 작성\n",
    "    i += 1\n",
    "    # i = i + 1\n",
    "    print(i)"
   ]
  },
  {
   "cell_type": "code",
   "execution_count": 36,
   "metadata": {},
   "outputs": [
    {
     "name": "stdout",
     "output_type": "stream",
     "text": [
      "55\n"
     ]
    }
   ],
   "source": [
    "# 1부터 10까지의 합계\n",
    "\n",
    "result = 0\n",
    "\n",
    "i = 1\n",
    "\n",
    "while i < 11:\n",
    "    # result = result + i\n",
    "    result += i\n",
    "    # 일반적으로 증감식은 while문 가장 마지막에 작성한다. \n",
    "    # i = i + 1\n",
    "    i += 1\n",
    "\n",
    "print(result)"
   ]
  },
  {
   "cell_type": "code",
   "execution_count": 38,
   "metadata": {},
   "outputs": [
    {
     "name": "stdout",
     "output_type": "stream",
     "text": [
      "1\n",
      "2\n",
      "3\n",
      "4\n"
     ]
    }
   ],
   "source": [
    "# break문 \n",
    "# 반복문을 강제로 종료\n",
    "for i in range(1, 101, 1):\n",
    "    if i == 5:\n",
    "        break\n",
    "    print(i)"
   ]
  },
  {
   "cell_type": "code",
   "execution_count": 39,
   "metadata": {},
   "outputs": [
    {
     "name": "stdout",
     "output_type": "stream",
     "text": [
      "1\n",
      "2\n",
      "3\n",
      "4\n",
      "5\n"
     ]
    }
   ],
   "source": [
    "i = 1\n",
    "\n",
    "while i < 101:\n",
    "    print(i)\n",
    "    if i == 5:\n",
    "        break\n",
    "    i += 1"
   ]
  },
  {
   "cell_type": "code",
   "execution_count": 42,
   "metadata": {},
   "outputs": [
    {
     "name": "stdout",
     "output_type": "stream",
     "text": [
      "4\n",
      "5\n",
      "6\n",
      "7\n",
      "8\n",
      "9\n"
     ]
    }
   ],
   "source": [
    "# continue문 \n",
    "# 반복문으로 되돌아간다. \n",
    "for i in range(1, 10, 1):\n",
    "    if i <=3 :\n",
    "        continue\n",
    "    print(i)"
   ]
  },
  {
   "cell_type": "code",
   "execution_count": 44,
   "metadata": {},
   "outputs": [
    {
     "name": "stdout",
     "output_type": "stream",
     "text": [
      "4\n",
      "5\n",
      "6\n",
      "7\n",
      "8\n",
      "9\n"
     ]
    }
   ],
   "source": [
    "i = 1 \n",
    "while i < 10:\n",
    "    if i <= 3:\n",
    "        i += 1\n",
    "        continue\n",
    "    print(i)\n",
    "    i += 1"
   ]
  },
  {
   "cell_type": "markdown",
   "metadata": {},
   "source": [
    "### 조건문 & 반복문 예제 문제\n",
    "1. 다중 반복문 문제\n",
    "    - 두 개의 주사위의 합이 5이상인 경우를 모두 출력하시오\n",
    "        1. 첫번째 반복문에서 1번 주사위의 경우의 수만큼 반복\n",
    "        2. 두번째 반복문에서 2번 주사위의 경우의 수만큼 반복\n",
    "        3. 두 주사위의 합계가 5보다 크거나 같다면 이라는 조건문을 생성\n",
    "        4. 해당하는 조건식이 참인 경우 print()를 이용하여 i, j값을 출력"
   ]
  },
  {
   "cell_type": "code",
   "execution_count": null,
   "metadata": {},
   "outputs": [],
   "source": [
    "# 첫번째 주사위의 경우의 수 \n",
    "for i in range(1, 7, 1):\n",
    "    # 두번째 주사위의 경우의 수\n",
    "    for j in range(1, 7, 1):\n",
    "        # 두 주사위의 합이 5 이상이라면\n",
    "        if i + j >= 5:\n",
    "            print(i,j)"
   ]
  },
  {
   "cell_type": "code",
   "execution_count": 50,
   "metadata": {},
   "outputs": [
    {
     "name": "stdout",
     "output_type": "stream",
     "text": [
      "1275\n",
      "408\n"
     ]
    }
   ],
   "source": [
    "# 반복문 예제\n",
    "# 1부터 50까지의 숫자 중 3의 배수의 합계를 구하시오\n",
    "\n",
    "# 1. 1부터 50까지의 합계\n",
    "# 합계라는 초기값 0을 변수에 대입하여 지정\n",
    "result = 0\n",
    "# 반복문을 이용하여 1부터 50까지 반복\n",
    "for i in range(1, 51, 1):\n",
    "    # 합계에 반복문에서 사용하는 변수의 값을 누적 합 \n",
    "    result = result + i\n",
    "    # result += i\n",
    "# 합계를 출력\n",
    "print(result)\n",
    "# 2. 1부터 50까지의 3의 배수의 합계\n",
    "# 합계라는 초기값 0을 변수에 대입하여 지정\n",
    "result = 0\n",
    "# 반복문을 이용하여 1부터 50까지 반복\n",
    "for i in range(1, 51, 1):\n",
    "    # 조건문을 이용하여 3의 배수(3으로 나눴을때 나머지가 0)의 조건식을 작성 \n",
    "    if i % 3 == 0:\n",
    "        # 조건식이 참인 경우 합계에 누적합\n",
    "        result += i\n",
    "# 합계를 출력\n",
    "print(result)"
   ]
  },
  {
   "cell_type": "code",
   "execution_count": 52,
   "metadata": {},
   "outputs": [
    {
     "name": "stdout",
     "output_type": "stream",
     "text": [
      "1275\n",
      "408\n"
     ]
    }
   ],
   "source": [
    "# while문 의 경우\n",
    "result = 0\n",
    "i = 1\n",
    "while i <= 50 :\n",
    "    # result = result + i\n",
    "    result += i\n",
    "    i += 1\n",
    "print(result)\n",
    "\n",
    "result = 0 \n",
    "i = 1\n",
    "while i <= 50:\n",
    "    if i % 3 == 0:\n",
    "        result += i\n",
    "    i += 1\n",
    "\n",
    "print(result)\n"
   ]
  },
  {
   "cell_type": "code",
   "execution_count": 55,
   "metadata": {},
   "outputs": [
    {
     "name": "stdout",
     "output_type": "stream",
     "text": [
      "5050\n",
      "42 903\n"
     ]
    }
   ],
   "source": [
    "# 1부터 100까지의 합계중\n",
    "# 합계의 값이 최초로 900이 넘어갈때의 i값을 출력하시오\n",
    "\n",
    "# 1부터 100까지의 합계를 출력\n",
    "# 합계 초기값 0인 변수를 생성\n",
    "result = 0\n",
    "# 1부터 100까지의 반복문 생성\n",
    "for i in range(1, 101, 1):\n",
    "    # 합계에 i값을 누적 합\n",
    "    result += i\n",
    "    # result = result + i\n",
    "# 합계를 출력\n",
    "print(result)\n",
    "# 합계 초기값을 0으로 지정\n",
    "result = 0\n",
    "# 1부터 100까지의 반복문 생성\n",
    "for i in range(1, 101, 1):\n",
    "    # 합계에 i값을 누적 합\n",
    "    result = result + i\n",
    "    # 합계가 900 이상이라면 조건문 생성\n",
    "    if result >= 900:\n",
    "        # 조건식이 참이라면 반복문을 강제 종료\n",
    "        break\n",
    "# i값과 합계를 출력\n",
    "print(i, result)"
   ]
  },
  {
   "cell_type": "code",
   "execution_count": 56,
   "metadata": {},
   "outputs": [
    {
     "name": "stdout",
     "output_type": "stream",
     "text": [
      "42 903\n"
     ]
    }
   ],
   "source": [
    "# while문 \n",
    "result = 0\n",
    "i = 1\n",
    "while i < 101:\n",
    "    result += i\n",
    "    if result >= 900:\n",
    "        break\n",
    "    i += 1\n",
    "print(i, result)"
   ]
  },
  {
   "cell_type": "markdown",
   "metadata": {},
   "source": [
    "### 자료형 데이터 \n",
    "- 튜플 \n",
    "- 리스트\n",
    "- 딕셔너리 "
   ]
  },
  {
   "cell_type": "code",
   "execution_count": 57,
   "metadata": {},
   "outputs": [
    {
     "name": "stdout",
     "output_type": "stream",
     "text": [
      "(1, 'Hello')\n",
      "(3, 3.14)\n"
     ]
    }
   ],
   "source": [
    "# 튜플 \n",
    "# 여러개의 데이터를 가지는 변수 중 가장 기본적인 형태\n",
    "# 수정이 불가능\n",
    "a = (1, 'Hello')\n",
    "b = (3, 3.14)\n",
    "print(a)\n",
    "print(b)"
   ]
  },
  {
   "cell_type": "code",
   "execution_count": 58,
   "metadata": {},
   "outputs": [
    {
     "name": "stdout",
     "output_type": "stream",
     "text": [
      "(1, 'Hello', 3, 3.14)\n"
     ]
    }
   ],
   "source": [
    "# 튜플끼리의 합\n",
    "c = a + b \n",
    "print(c)"
   ]
  },
  {
   "cell_type": "code",
   "execution_count": 59,
   "metadata": {},
   "outputs": [
    {
     "name": "stdout",
     "output_type": "stream",
     "text": [
      "(1, 'Hello', 1, 'Hello', 1, 'Hello')\n"
     ]
    }
   ],
   "source": [
    "# 튜플의 곱\n",
    "d = a * 3 # a + a + a\n",
    "print(d)"
   ]
  },
  {
   "cell_type": "code",
   "execution_count": 61,
   "metadata": {},
   "outputs": [
    {
     "name": "stdout",
     "output_type": "stream",
     "text": [
      "Hello\n"
     ]
    }
   ],
   "source": [
    "# 튜플 데이터의 인덱싱\n",
    "e = a[1]\n",
    "print(e)"
   ]
  },
  {
   "cell_type": "code",
   "execution_count": 62,
   "metadata": {},
   "outputs": [],
   "source": [
    "tuple_a = (10, 20, 30, 40)"
   ]
  },
  {
   "cell_type": "code",
   "execution_count": 64,
   "metadata": {},
   "outputs": [
    {
     "name": "stdout",
     "output_type": "stream",
     "text": [
      "(20, 30)\n"
     ]
    }
   ],
   "source": [
    "# tuple_a에서 2번째 위치부터 4번째 위치 전까지 데이터를 추출\n",
    "print(tuple_a[1:3])"
   ]
  },
  {
   "cell_type": "code",
   "execution_count": 67,
   "metadata": {},
   "outputs": [
    {
     "name": "stdout",
     "output_type": "stream",
     "text": [
      "(30, 40)\n",
      "(30, 40)\n"
     ]
    }
   ],
   "source": [
    "# tuple_a에서 30, 40를 출력하려면?\n",
    "print(tuple_a[2:])\n",
    "print(tuple_a[2:4])"
   ]
  },
  {
   "cell_type": "code",
   "execution_count": 71,
   "metadata": {},
   "outputs": [
    {
     "name": "stdout",
     "output_type": "stream",
     "text": [
      "(10, 20, 30)\n",
      "(10, 20, 30)\n"
     ]
    }
   ],
   "source": [
    "#tuple_a에서 10, 20, 30을 출력하려면?\n",
    "print(tuple_a[:3])\n",
    "print(tuple_a[0:3])"
   ]
  },
  {
   "cell_type": "code",
   "execution_count": 86,
   "metadata": {},
   "outputs": [],
   "source": [
    "# 리스트 형태\n",
    "# 튜플과 다르게 해당하는 원소들을 수정, 추가, 삭제 작업이 가능\n",
    "list_a = [20, 10, 50, 30]\n",
    "list_b = [10, 20, 40, 30]"
   ]
  },
  {
   "cell_type": "code",
   "execution_count": 87,
   "metadata": {},
   "outputs": [
    {
     "name": "stdout",
     "output_type": "stream",
     "text": [
      "[10, 20, 30, 50]\n"
     ]
    }
   ],
   "source": [
    "# 리스트의 각 원소들을 오름차순 정렬로 변경\n",
    "# sort()\n",
    "list_a.sort()\n",
    "print(list_a)"
   ]
  },
  {
   "cell_type": "code",
   "execution_count": 88,
   "metadata": {},
   "outputs": [
    {
     "name": "stdout",
     "output_type": "stream",
     "text": [
      "[50, 30, 20, 10]\n"
     ]
    }
   ],
   "source": [
    "# 내림차순 정렬 변경\n",
    "list_a.sort()\n",
    "list_a.reverse()\n",
    "print(list_a)"
   ]
  },
  {
   "cell_type": "code",
   "execution_count": 89,
   "metadata": {},
   "outputs": [
    {
     "name": "stdout",
     "output_type": "stream",
     "text": [
      "[50, 30, 20, 10]\n"
     ]
    }
   ],
   "source": [
    "# 내림차순 정렬 변경\n",
    "list_a.sort(reverse=True)\n",
    "print(list_a)"
   ]
  },
  {
   "cell_type": "code",
   "execution_count": 90,
   "metadata": {},
   "outputs": [
    {
     "name": "stdout",
     "output_type": "stream",
     "text": [
      "[30, 40, 20, 10]\n"
     ]
    }
   ],
   "source": [
    "# 리스트의 순서를 역순으로 변경\n",
    "# reverse()\n",
    "list_b.reverse()\n",
    "print(list_b)"
   ]
  },
  {
   "cell_type": "code",
   "execution_count": 91,
   "metadata": {},
   "outputs": [
    {
     "name": "stdout",
     "output_type": "stream",
     "text": [
      "[50, 30, 20, 10, 5]\n"
     ]
    }
   ],
   "source": [
    "# 리스트에 가장 마지막에 새로운 원소를 추가 \n",
    "# append()\n",
    "list_a.append(5)\n",
    "print(list_a)"
   ]
  },
  {
   "cell_type": "code",
   "execution_count": 92,
   "metadata": {},
   "outputs": [
    {
     "name": "stdout",
     "output_type": "stream",
     "text": [
      "[30, 40, 20]\n"
     ]
    }
   ],
   "source": [
    "# 리스트의 가장 마지막에 있는 원소를 삭제\n",
    "# pop()\n",
    "list_b.pop()\n",
    "print(list_b)"
   ]
  },
  {
   "cell_type": "code",
   "execution_count": 93,
   "metadata": {},
   "outputs": [
    {
     "name": "stdout",
     "output_type": "stream",
     "text": [
      "[30, 20, 10, 5]\n"
     ]
    }
   ],
   "source": [
    "# 특정 위치의 데이터를 제거 \n",
    "# del 키워드를 사용\n",
    "del list_a[0]\n",
    "print(list_a)"
   ]
  },
  {
   "cell_type": "code",
   "execution_count": 95,
   "metadata": {},
   "outputs": [
    {
     "name": "stdout",
     "output_type": "stream",
     "text": [
      "4\n",
      "3\n"
     ]
    }
   ],
   "source": [
    "# 리스트의 원소들의 개수를 확인 \n",
    "# len() \n",
    "print(len(list_a))\n",
    "print(len(list_b))"
   ]
  },
  {
   "cell_type": "code",
   "execution_count": 96,
   "metadata": {},
   "outputs": [
    {
     "name": "stdout",
     "output_type": "stream",
     "text": [
      "[]\n"
     ]
    }
   ],
   "source": [
    "# 리스트의 특징 \n",
    "# 리스트는 원소의 개수가 0개 이상으로 생성이 가능\n",
    "\n",
    "# 비어있는 리스트 생성\n",
    "list_c = []\n",
    "print(list_c)"
   ]
  },
  {
   "cell_type": "code",
   "execution_count": 97,
   "metadata": {},
   "outputs": [
    {
     "name": "stdout",
     "output_type": "stream",
     "text": [
      "[20]\n"
     ]
    }
   ],
   "source": [
    "list_c.append(20)\n",
    "print(list_c)"
   ]
  },
  {
   "cell_type": "code",
   "execution_count": 98,
   "metadata": {},
   "outputs": [
    {
     "name": "stdout",
     "output_type": "stream",
     "text": [
      "[20, (5, 3)]\n"
     ]
    }
   ],
   "source": [
    "list_c.append( (5, 3) )\n",
    "print(list_c)"
   ]
  },
  {
   "cell_type": "code",
   "execution_count": 101,
   "metadata": {},
   "outputs": [
    {
     "name": "stdout",
     "output_type": "stream",
     "text": [
      "[[1, 6], [2, 5], [3, 4], [4, 3], [5, 2], [6, 1]]\n"
     ]
    }
   ],
   "source": [
    "# 두개의 주사위를 굴려서 두 주사위의 합이 7인 경우의 수를 \n",
    "# 리스트에 형태로 출력\n",
    "\n",
    "# 비어있는 리스트 생성\n",
    "result = []\n",
    "# 첫번째 주사위의 경우의 수 만큼 반복을 하는 반복문을 작성\n",
    "for i in range(1, 7, 1):\n",
    "    # 두번째 주사위의 경우의 수 만큼 반복을 하는 반복문을 작성\n",
    "    for j in range(1, 7, 1):\n",
    "        # 두 주사위의 합계가 7인 경우(조건문 생성)\n",
    "        if i + j == 7:\n",
    "            # 조건식이 참이라면 위에서 생성한 비어있는 리스트에 두 주사위의 값을 추가\n",
    "            result.append( [i, j] )\n",
    "# 위에서 생성한 리스트를 출력\n",
    "print(result)"
   ]
  },
  {
   "cell_type": "code",
   "execution_count": 102,
   "metadata": {},
   "outputs": [],
   "source": [
    "# 딕셔너리 \n",
    "# 사전형 데이터 \n",
    "# key : value 데이터가 이루어져 있다. \n",
    "dict_data = {\n",
    "    'name' : 'test', \n",
    "    'age' : 20,\n",
    "    'phone' : '01012345678'\n",
    "}"
   ]
  },
  {
   "cell_type": "code",
   "execution_count": 103,
   "metadata": {},
   "outputs": [
    {
     "name": "stdout",
     "output_type": "stream",
     "text": [
      "test\n"
     ]
    }
   ],
   "source": [
    "# 딕셔너리 형태의 데이터에서 value의 값을 추출하려면 \n",
    "# 키 값을 기준으로 출력이 가능 \n",
    "print(dict_data['name'])"
   ]
  },
  {
   "cell_type": "code",
   "execution_count": 104,
   "metadata": {},
   "outputs": [],
   "source": [
    "list_data = ['test', 20, '0101234578']"
   ]
  },
  {
   "cell_type": "code",
   "execution_count": 105,
   "metadata": {},
   "outputs": [
    {
     "name": "stdout",
     "output_type": "stream",
     "text": [
      "test\n"
     ]
    }
   ],
   "source": [
    "print(list_data[0])"
   ]
  },
  {
   "cell_type": "code",
   "execution_count": 106,
   "metadata": {},
   "outputs": [],
   "source": [
    "dict_data2 = {\n",
    "    'age' : 30, \n",
    "    'name' : 'test2', \n",
    "    'phone' : '01011112222'\n",
    "}\n",
    "list_data2 = [30, 'test2', '01011112222']"
   ]
  },
  {
   "cell_type": "code",
   "execution_count": 107,
   "metadata": {},
   "outputs": [
    {
     "name": "stdout",
     "output_type": "stream",
     "text": [
      "test2\n",
      "30\n"
     ]
    }
   ],
   "source": [
    "print(dict_data2['name'])\n",
    "print(list_data2[0])"
   ]
  },
  {
   "cell_type": "code",
   "execution_count": 108,
   "metadata": {},
   "outputs": [
    {
     "name": "stdout",
     "output_type": "stream",
     "text": [
      "{'name': 'test', 'age': 20, 'phone': '01012345678', 'area': 'seoul'}\n"
     ]
    }
   ],
   "source": [
    "# 딕셔너리 데이터에 새로운 키:벨류 추가 \n",
    "dict_data['area'] = 'seoul'\n",
    "print(dict_data)"
   ]
  },
  {
   "cell_type": "code",
   "execution_count": 110,
   "metadata": {},
   "outputs": [
    {
     "name": "stdout",
     "output_type": "stream",
     "text": [
      "{'name': 'test', 'age': 30, 'phone': '01012345678', 'area': 'seoul'}\n"
     ]
    }
   ],
   "source": [
    "# 기존의 키 값에 벨류를 변경 \n",
    "dict_data['age'] = 30\n",
    "print(dict_data)"
   ]
  },
  {
   "cell_type": "code",
   "execution_count": 111,
   "metadata": {},
   "outputs": [
    {
     "name": "stdout",
     "output_type": "stream",
     "text": [
      "dict_keys(['name', 'age', 'phone', 'area'])\n",
      "dict_values(['test', 30, '01012345678', 'seoul'])\n"
     ]
    }
   ],
   "source": [
    "# 딕셔너리 형태의 데이터는 \n",
    "# key 값들과 value 값들로 이루어진 데이터\n",
    "print(dict_data.keys())\n",
    "print(dict_data.values())"
   ]
  },
  {
   "cell_type": "code",
   "execution_count": 112,
   "metadata": {},
   "outputs": [],
   "source": [
    "# DataBase에서 데이터를 로드할때 데이터 형태는\n",
    "# [ {  }, {  }, {  } , ....]\n",
    "test_data = [\n",
    "    {\n",
    "        'id' : 'test', \n",
    "        'password' : '1234'\n",
    "    }, \n",
    "    {\n",
    "        'id' : 'test2', \n",
    "        'password' : '1111'\n",
    "    }, \n",
    "    {\n",
    "        'id' : 'test3', \n",
    "        'password' : '0000'\n",
    "    }\n",
    "]"
   ]
  },
  {
   "cell_type": "code",
   "execution_count": 113,
   "metadata": {},
   "outputs": [
    {
     "name": "stdout",
     "output_type": "stream",
     "text": [
      "[{'id': 'test', 'password': '1234'}, {'id': 'test2', 'password': '1111'}, {'id': 'test3', 'password': '0000'}]\n"
     ]
    }
   ],
   "source": [
    "print(test_data)"
   ]
  },
  {
   "cell_type": "code",
   "execution_count": 114,
   "metadata": {},
   "outputs": [
    {
     "name": "stdout",
     "output_type": "stream",
     "text": [
      "{'id': 'test2', 'password': '1111'}\n"
     ]
    }
   ],
   "source": [
    "# test2라는 값만 출력하려면?\n",
    "print(test_data[1])"
   ]
  },
  {
   "cell_type": "code",
   "execution_count": 115,
   "metadata": {},
   "outputs": [
    {
     "name": "stdout",
     "output_type": "stream",
     "text": [
      "test2\n"
     ]
    }
   ],
   "source": [
    "print(test_data[1]['id'])"
   ]
  },
  {
   "cell_type": "code",
   "execution_count": 121,
   "metadata": {},
   "outputs": [
    {
     "name": "stdout",
     "output_type": "stream",
     "text": [
      "10\n",
      "30\n",
      "20\n",
      "------------------------\n",
      "10\n",
      "30\n",
      "20\n",
      "------------------------\n",
      "10\n",
      "30\n",
      "20\n"
     ]
    }
   ],
   "source": [
    "# 리스트 데이터를 이용하여 반복문 사용\n",
    "\n",
    "list_a = [10, 30, 20]\n",
    "\n",
    "# list_a의 길이를 출력\n",
    "a_len = len(list_a)\n",
    "\n",
    "# list_a의 길이만큼 반복\n",
    "for i in range(0, a_len, 1):\n",
    "    print(list_a[i])\n",
    "print(\"------------------------\")\n",
    "i = 0\n",
    "while i < a_len:\n",
    "    print(list_a[i])\n",
    "    i += 1\n",
    "print(\"------------------------\")\n",
    "\n",
    "for i in list_a:\n",
    "    print(i)\n"
   ]
  },
  {
   "cell_type": "code",
   "execution_count": 122,
   "metadata": {},
   "outputs": [
    {
     "name": "stdout",
     "output_type": "stream",
     "text": [
      "['test', 'test2', 'test3']\n"
     ]
    }
   ],
   "source": [
    "# test_data를 이용하여 반복문 사용한다. \n",
    "\n",
    "# 아이디 값들만 새로운 배열에 추가하여 출력\n",
    "result = []\n",
    "\n",
    "result.append(test_data[0]['id'])\n",
    "result.append(test_data[1]['id'])\n",
    "result.append(test_data[2]['id'])\n",
    "print(result)"
   ]
  },
  {
   "cell_type": "code",
   "execution_count": 123,
   "metadata": {},
   "outputs": [
    {
     "name": "stdout",
     "output_type": "stream",
     "text": [
      "['test', 'test2', 'test3']\n"
     ]
    }
   ],
   "source": [
    "result = []\n",
    "\n",
    "test_len = len(test_data)\n",
    "\n",
    "for i in range(0, test_len, 1):\n",
    "    # i값이 의미하는바는? -> 인덱스 값\n",
    "    result.append(test_data[i]['id'])\n",
    "print(result)"
   ]
  },
  {
   "cell_type": "code",
   "execution_count": 125,
   "metadata": {},
   "outputs": [
    {
     "name": "stdout",
     "output_type": "stream",
     "text": [
      "['test', 'test2', 'test3']\n"
     ]
    }
   ],
   "source": [
    "result = []\n",
    "test_len = len(test_data)\n",
    "\n",
    "i = 0\n",
    "while i < test_len:\n",
    "    result.append(test_data[i]['id'])\n",
    "    i += 1\n",
    "print(result)"
   ]
  },
  {
   "cell_type": "code",
   "execution_count": 128,
   "metadata": {},
   "outputs": [
    {
     "name": "stdout",
     "output_type": "stream",
     "text": [
      "['test', 'test2', 'test3']\n"
     ]
    }
   ],
   "source": [
    "result = []\n",
    "\n",
    "for i in test_data:\n",
    "    # print(i['id'])\n",
    "    result.append(i['id'])\n",
    "print(result)"
   ]
  },
  {
   "cell_type": "code",
   "execution_count": 134,
   "metadata": {},
   "outputs": [],
   "source": [
    "test_data2 = [\n",
    "    [10, 20], \n",
    "    [30, 40, 45], \n",
    "    [50]\n",
    "]"
   ]
  },
  {
   "cell_type": "code",
   "execution_count": null,
   "metadata": {},
   "outputs": [],
   "source": [
    "# test_data2 2차원 배열 데이터를 1차원 배열로 변경\n",
    "# [10, 20, 30, 40, 50, 60]\n",
    "\n",
    "result = []\n",
    "\n",
    "for i in test_data2:\n",
    "    # print(i)\n",
    "    result.append(i[0])\n",
    "    result.append(i[1])\n",
    "print(result)"
   ]
  },
  {
   "cell_type": "code",
   "execution_count": 136,
   "metadata": {},
   "outputs": [
    {
     "name": "stdout",
     "output_type": "stream",
     "text": [
      "[10, 20, 30, 40, 45, 50]\n"
     ]
    }
   ],
   "source": [
    "result = []\n",
    "\n",
    "for i in test_data2:\n",
    "    # i의 데이터의 형태는 리스트 \n",
    "    # i -> [10, 20]\n",
    "    # i -> [30, 40, 45]\n",
    "    # i -> [50]\n",
    "    for j in i:\n",
    "        # j -> 10  /  20\n",
    "        # j -> 30  /  40   / 45\n",
    "        # j -> 50\n",
    "        result.append(j)\n",
    "\n",
    "print(result)"
   ]
  }
 ],
 "metadata": {
  "kernelspec": {
   "display_name": "Python 3",
   "language": "python",
   "name": "python3"
  },
  "language_info": {
   "codemirror_mode": {
    "name": "ipython",
    "version": 3
   },
   "file_extension": ".py",
   "mimetype": "text/x-python",
   "name": "python",
   "nbconvert_exporter": "python",
   "pygments_lexer": "ipython3",
   "version": "3.9.13"
  }
 },
 "nbformat": 4,
 "nbformat_minor": 2
}
