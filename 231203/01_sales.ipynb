{
 "cells": [
  {
   "cell_type": "markdown",
   "metadata": {},
   "source": [
    "### 문제 \n",
    "1. csv 폴더 안에 있는 'Sales Records.csv' 로드 \n",
    "2. 'Order ID', 'Total Revenue', 'Total Cost', 'Total Profit', 'Sales Channel' 컬럼을 삭제\n",
    "3. 컬럼의 이름을 변경 -> ['대륙', '국가', '상품종류', '우선순위', '주문일자', '발송일자', '개수', '단가', '원가']\n",
    "4. 대륙과 국가를 기준으로 오름차순 정렬\n",
    "5. 기존의 인덱스는 제거하고 인덱스를 재지정\n",
    "6. 파생변수(새로운 컬럼)을 생성\n",
    "    - 총단가 = 개수 * 단가\n",
    "    - 총원가 = 개수 * 원가\n",
    "    - 총이윤 = 총단가 - 총원가"
   ]
  },
  {
   "cell_type": "code",
   "execution_count": null,
   "metadata": {},
   "outputs": [],
   "source": [
    "import pandas as pd"
   ]
  },
  {
   "cell_type": "code",
   "execution_count": null,
   "metadata": {},
   "outputs": [],
   "source": [
    "# 외부의 파일을 로드 \n",
    "sales = pd.read_csv('../csv/Sales Records.csv')\n",
    "sales.head()"
   ]
  },
  {
   "cell_type": "code",
   "execution_count": null,
   "metadata": {},
   "outputs": [],
   "source": [
    "# 특정 컬럼을 제거 \n",
    "sales.drop(\n",
    "    ['Order ID', 'Total Revenue', 'Total Cost', 'Total Profit', 'Sales Channel'], \n",
    "    axis=1,\n",
    "    inplace=True\n",
    "    )"
   ]
  },
  {
   "cell_type": "code",
   "execution_count": null,
   "metadata": {},
   "outputs": [],
   "source": [
    "sales.head()"
   ]
  },
  {
   "cell_type": "code",
   "execution_count": null,
   "metadata": {},
   "outputs": [],
   "source": [
    "sales.columns = ['대륙', '국가', '상품종류', '우선순위', '주문일자', '발송일자', '개수', '단가', '원가']"
   ]
  },
  {
   "cell_type": "code",
   "execution_count": null,
   "metadata": {},
   "outputs": [],
   "source": [
    "sales.head(1)"
   ]
  },
  {
   "cell_type": "code",
   "execution_count": null,
   "metadata": {},
   "outputs": [],
   "source": [
    "# 대륙과 국가로 오름차순 정렬 \n",
    "sales.sort_values(['대륙', '국가'], inplace=True)\n",
    "# sales.sort_values('국가', inplace=True)\n",
    "sales.head()"
   ]
  },
  {
   "cell_type": "code",
   "execution_count": null,
   "metadata": {},
   "outputs": [],
   "source": [
    "# 기존의 인덱스를 제거 하고 인덱스를 재지정\n",
    "sales.reset_index(drop=True, inplace=True)"
   ]
  },
  {
   "cell_type": "code",
   "execution_count": null,
   "metadata": {},
   "outputs": [],
   "source": [
    "sales['단가'] * sales['개수']"
   ]
  },
  {
   "cell_type": "code",
   "execution_count": null,
   "metadata": {},
   "outputs": [],
   "source": [
    "# 파생변수를 생성 (총원가, 총단가, 총이윤)\n",
    "sales['총단가'] = sales['개수'] * sales['단가']\n",
    "sales['총원가'] = sales['개수'] * sales['원가']\n",
    "sales['총이윤'] = sales['총단가'] - sales['총원가']"
   ]
  },
  {
   "cell_type": "code",
   "execution_count": null,
   "metadata": {},
   "outputs": [],
   "source": [
    "sales.head(3)"
   ]
  }
 ],
 "metadata": {
  "kernelspec": {
   "display_name": "Python 3",
   "language": "python",
   "name": "python3"
  },
  "language_info": {
   "codemirror_mode": {
    "name": "ipython",
    "version": 3
   },
   "file_extension": ".py",
   "mimetype": "text/x-python",
   "name": "python",
   "nbconvert_exporter": "python",
   "pygments_lexer": "ipython3",
   "version": "3.11.4"
  }
 },
 "nbformat": 4,
 "nbformat_minor": 2
}
