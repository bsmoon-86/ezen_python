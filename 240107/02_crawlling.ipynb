{
 "cells": [
  {
   "cell_type": "markdown",
   "metadata": {},
   "source": [
    "### 웹 크롤링 \n",
    "- html 문서를 응답 메시지를 받는다. \n",
    "- html 태그를 이용하여 데이터를 수집 "
   ]
  },
  {
   "cell_type": "code",
   "execution_count": null,
   "metadata": {},
   "outputs": [],
   "source": [
    "import requests\n",
    "from pprint import pprint"
   ]
  },
  {
   "cell_type": "code",
   "execution_count": null,
   "metadata": {},
   "outputs": [],
   "source": [
    "url = \"https://www.naver.com\"\n",
    "\n",
    "response = requests.get(url)"
   ]
  },
  {
   "cell_type": "code",
   "execution_count": null,
   "metadata": {},
   "outputs": [],
   "source": [
    "html_data = response.text"
   ]
  },
  {
   "cell_type": "code",
   "execution_count": null,
   "metadata": {},
   "outputs": [],
   "source": [
    "pprint(html_data)"
   ]
  },
  {
   "cell_type": "code",
   "execution_count": null,
   "metadata": {},
   "outputs": [],
   "source": [
    "type(html_data)"
   ]
  },
  {
   "cell_type": "code",
   "execution_count": null,
   "metadata": {},
   "outputs": [],
   "source": [
    "html_data.find('네이버')"
   ]
  },
  {
   "cell_type": "code",
   "execution_count": null,
   "metadata": {},
   "outputs": [],
   "source": [
    "html_data[378:381]"
   ]
  },
  {
   "cell_type": "markdown",
   "metadata": {},
   "source": [
    "### BeautifulSoup 라이브러리를 이용하여 크롤링\n",
    "1. bs4 라이브러리 안에 있는 BeautifulSoup 기능을 이용\n",
    "2. html 문자형 데이터를 pasing 작업을 하여 데이터를 쉽게 추출하기 위한 라이브러리 \n",
    "3. html의 태그를 기준으로 하여 데이터를 추출\n",
    "4. html의 구조를 어느정도 인지하고 있다면 쉽게 접근이 가능 \n",
    "5. Parser를 활용하여 파이썬에서 접근이 쉽게 객체 형태로 제공"
   ]
  },
  {
   "cell_type": "code",
   "execution_count": null,
   "metadata": {},
   "outputs": [],
   "source": [
    "# 라이브러리 설치 \n",
    "!pip install bs4"
   ]
  },
  {
   "cell_type": "code",
   "execution_count": null,
   "metadata": {},
   "outputs": [],
   "source": [
    "# 라이브러리 로드 \n",
    "from bs4 import BeautifulSoup as bs"
   ]
  },
  {
   "cell_type": "code",
   "execution_count": null,
   "metadata": {},
   "outputs": [],
   "source": [
    "# 데이터의 타입을 변경 : parsing \n",
    "soup = bs(html_data, 'html.parser')"
   ]
  },
  {
   "cell_type": "code",
   "execution_count": null,
   "metadata": {},
   "outputs": [],
   "source": [
    "type(soup)"
   ]
  },
  {
   "cell_type": "markdown",
   "metadata": {},
   "source": [
    "### 태그명을 이용하여 검색 \n",
    "- soup.태그명 : 해당 태그의 첫번째 정보를 출력 \n",
    "- soup.태그명.string : 첫번째 태그의 문자열이 출력 \n",
    "- soup.태그명['속성명'] : 첫번째 태그의 속성의 값이 출력"
   ]
  },
  {
   "cell_type": "code",
   "execution_count": null,
   "metadata": {},
   "outputs": [],
   "source": [
    "# html 문서에서 title 태그를 추출\n",
    "soup.title"
   ]
  },
  {
   "cell_type": "code",
   "execution_count": null,
   "metadata": {},
   "outputs": [],
   "source": [
    "# title 태그 안에 contents만 추출\n",
    "soup.title.string"
   ]
  },
  {
   "cell_type": "code",
   "execution_count": null,
   "metadata": {},
   "outputs": [],
   "source": [
    "# html 문서 안에서 하이퍼링크 태그를 추출\n",
    "soup.a"
   ]
  },
  {
   "cell_type": "code",
   "execution_count": null,
   "metadata": {},
   "outputs": [],
   "source": [
    "# 하이퍼링크에서 href의 값만 추출 \n",
    "soup.a['href']"
   ]
  },
  {
   "cell_type": "markdown",
   "metadata": {},
   "source": [
    "### BeautifulSoup 안에 있는 내장함수 \n",
    "- find()\n",
    "    - html 문자열 안에서 해당 태그의 첫번째 정보를 출력\n",
    "    - find(속성 = 값) : 태그들 중에서 해당 속성의 값과 같은 태그의 첫번째 정보를 출력\n",
    "- find_all()\n",
    "    - html 문자열 안에서 해당 태그의 모든 정보를 리스트 형태로 출력\n",
    "    - limit 매개변수 : 리스트의 길이를 지정 \n",
    "- get_text()\n",
    "    - 태그의 정보에서 contents만 추출하는 함수 "
   ]
  },
  {
   "cell_type": "code",
   "execution_count": null,
   "metadata": {},
   "outputs": [],
   "source": [
    "soup.find('a')"
   ]
  },
  {
   "cell_type": "code",
   "execution_count": null,
   "metadata": {},
   "outputs": [],
   "source": [
    "soup.find('a').get_text()"
   ]
  },
  {
   "cell_type": "code",
   "execution_count": null,
   "metadata": {},
   "outputs": [],
   "source": [
    "a_list = soup.find_all('a')"
   ]
  },
  {
   "cell_type": "code",
   "execution_count": null,
   "metadata": {},
   "outputs": [],
   "source": [
    "a_list2 = []\n",
    "for i in a_list:\n",
    "    # print(i.get_text())\n",
    "    a_list2.append(i.get_text())\n",
    "\n",
    "a_list2"
   ]
  },
  {
   "cell_type": "code",
   "execution_count": null,
   "metadata": {},
   "outputs": [],
   "source": [
    "# map()함수를 이용하여 a태그의 contents 부분만 추출\n",
    "# map(함수(일반함수, lambda함수), 리스트명)\n",
    "\n",
    "# map + 일반함수 \n",
    "def change(x):\n",
    "    # x는 a태그의 정보가 입력\n",
    "    # x에서 contents 부분만 추출\n",
    "    result = x.get_text()\n",
    "    # 결과값을 되돌려준다.\n",
    "    return result\n",
    "\n",
    "list(\n",
    "    map(\n",
    "        change, \n",
    "        a_list\n",
    "    )\n",
    ")"
   ]
  },
  {
   "cell_type": "code",
   "execution_count": null,
   "metadata": {},
   "outputs": [],
   "source": [
    "# map + lambda 함수\n",
    "list(\n",
    "    map(\n",
    "        lambda x : x.get_text(), \n",
    "        a_list\n",
    "    )\n",
    ")"
   ]
  },
  {
   "cell_type": "code",
   "execution_count": null,
   "metadata": {},
   "outputs": [],
   "source": [
    "url = 'https://search.shopping.naver.com/search/all?query=%EC%95%84%EC%9D%B4%ED%8C%A8%EB%93%9C&bt=-1&frm=NVSCPRO'\n",
    "\n",
    "response = requests.get(url)"
   ]
  },
  {
   "cell_type": "code",
   "execution_count": null,
   "metadata": {},
   "outputs": [],
   "source": [
    "html_data = response.text"
   ]
  },
  {
   "cell_type": "code",
   "execution_count": null,
   "metadata": {},
   "outputs": [],
   "source": [
    "html_data"
   ]
  },
  {
   "cell_type": "code",
   "execution_count": null,
   "metadata": {},
   "outputs": [],
   "source": [
    "# Beautifulsoup에서 사용할수 있는 데이터의 형태로 변환\n",
    "soup = bs(html_data, 'html.parser')\n",
    "soup"
   ]
  },
  {
   "cell_type": "code",
   "execution_count": null,
   "metadata": {},
   "outputs": [],
   "source": [
    "# div 태그중에 id가 content인 태그를 추출\n",
    "div_data = soup.find('div', attrs={\n",
    "    'id' : 'content'\n",
    "})"
   ]
  },
  {
   "cell_type": "code",
   "execution_count": null,
   "metadata": {},
   "outputs": [],
   "source": [
    "div_data2 = div_data.find('div')"
   ]
  },
  {
   "cell_type": "code",
   "execution_count": null,
   "metadata": {},
   "outputs": [],
   "source": [
    "div_data3 = div_data2.find('div', attrs={\n",
    "    'class' : 'basicList_list_basis__uNBZx'\n",
    "})"
   ]
  },
  {
   "cell_type": "code",
   "execution_count": null,
   "metadata": {},
   "outputs": [],
   "source": [
    "div_data4 = div_data3.find('div')"
   ]
  },
  {
   "cell_type": "code",
   "execution_count": null,
   "metadata": {},
   "outputs": [],
   "source": [
    "test_data = div_data4.find_all('div')[0]"
   ]
  },
  {
   "cell_type": "code",
   "execution_count": null,
   "metadata": {},
   "outputs": [],
   "source": [
    "test_data.find('div', attrs = {\n",
    "    'class' : 'adProduct_title__amInq'\n",
    "}).get_text()"
   ]
  },
  {
   "cell_type": "code",
   "execution_count": null,
   "metadata": {},
   "outputs": [],
   "source": [
    "div_list = div_data4.find_all('div', attrs= {\n",
    "    'class' : 'adProduct_title__amInq'\n",
    "})"
   ]
  },
  {
   "cell_type": "code",
   "execution_count": null,
   "metadata": {},
   "outputs": [],
   "source": [
    "div_list"
   ]
  },
  {
   "cell_type": "code",
   "execution_count": null,
   "metadata": {},
   "outputs": [],
   "source": [
    "item_list = []\n",
    "for i in  div_list:\n",
    "    item_list.append(i.get_text())\n",
    "\n",
    "item_list"
   ]
  },
  {
   "cell_type": "code",
   "execution_count": null,
   "metadata": {},
   "outputs": [],
   "source": [
    "div_list2 = div_data4.find('div', attrs={\n",
    "    'class' : 'product_title__Mmw2K'\n",
    "})"
   ]
  },
  {
   "cell_type": "code",
   "execution_count": null,
   "metadata": {},
   "outputs": [],
   "source": [
    "item_list.append(div_list2.get_text())"
   ]
  },
  {
   "cell_type": "code",
   "execution_count": null,
   "metadata": {},
   "outputs": [],
   "source": [
    "item_list"
   ]
  },
  {
   "cell_type": "code",
   "execution_count": null,
   "metadata": {},
   "outputs": [],
   "source": [
    "price_list = div_data4.find_all('div', attrs={\n",
    "    'class' : 'adProduct_price_area__yA7Ad'\n",
    "})"
   ]
  },
  {
   "cell_type": "code",
   "execution_count": null,
   "metadata": {},
   "outputs": [],
   "source": [
    "price_list[0].find('span', attrs={\n",
    "    'class' : 'price'\n",
    "}).get_text()"
   ]
  },
  {
   "cell_type": "code",
   "execution_count": null,
   "metadata": {},
   "outputs": [],
   "source": [
    "item_price = []\n",
    "\n",
    "for i in price_list:\n",
    "    data = i.find('span', attrs={\n",
    "        'class' : 'price'\n",
    "    }).get_text()\n",
    "    item_price.append(data)\n",
    "\n",
    "item_price"
   ]
  },
  {
   "cell_type": "code",
   "execution_count": null,
   "metadata": {},
   "outputs": [],
   "source": [
    "price_data = div_data4.find('div', attrs = {\n",
    "    'class' : 'product_price_area__eTg7I'\n",
    "})"
   ]
  },
  {
   "cell_type": "code",
   "execution_count": null,
   "metadata": {},
   "outputs": [],
   "source": [
    "price = price_data.find('span', attrs={\n",
    "    'class' : 'price_num__S2p_v'\n",
    "}).get_text()"
   ]
  },
  {
   "cell_type": "code",
   "execution_count": null,
   "metadata": {},
   "outputs": [],
   "source": [
    "item_price.append(price)"
   ]
  },
  {
   "cell_type": "code",
   "execution_count": null,
   "metadata": {},
   "outputs": [],
   "source": [
    "item_price"
   ]
  },
  {
   "cell_type": "code",
   "execution_count": null,
   "metadata": {},
   "outputs": [],
   "source": [
    "# 2개의 리스트 데이터를 하나의 dict 형태로 생성\n",
    "data = {\n",
    "    '상품명' : item_list, \n",
    "    '상품가격' : item_price\n",
    "}\n",
    "data"
   ]
  },
  {
   "cell_type": "code",
   "execution_count": null,
   "metadata": {},
   "outputs": [],
   "source": [
    "import pandas as pd"
   ]
  },
  {
   "cell_type": "code",
   "execution_count": null,
   "metadata": {},
   "outputs": [],
   "source": [
    "df = pd.DataFrame(data)\n",
    "df"
   ]
  },
  {
   "cell_type": "code",
   "execution_count": null,
   "metadata": {},
   "outputs": [],
   "source": []
  }
 ],
 "metadata": {
  "kernelspec": {
   "display_name": "Python 3",
   "language": "python",
   "name": "python3"
  },
  "language_info": {
   "codemirror_mode": {
    "name": "ipython",
    "version": 3
   },
   "file_extension": ".py",
   "mimetype": "text/x-python",
   "name": "python",
   "nbconvert_exporter": "python",
   "pygments_lexer": "ipython3",
   "version": "3.11.4"
  }
 },
 "nbformat": 4,
 "nbformat_minor": 2
}
