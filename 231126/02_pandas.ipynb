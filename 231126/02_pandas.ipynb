{
 "cells": [
  {
   "cell_type": "markdown",
   "metadata": {},
   "source": [
    "### pandas\n",
    "1. 데이터 분석에서 필수 라이브러리 \n",
    "2. 데이터의 구조는 Series, DataFrame \n",
    "3. Series - 1차원 데이터 \n",
    "4. DataFrame - 2차원 데이터"
   ]
  },
  {
   "cell_type": "code",
   "execution_count": null,
   "metadata": {},
   "outputs": [],
   "source": [
    "## 외부의 라이브러리 다운 \n",
    "!pip install pandas"
   ]
  },
  {
   "cell_type": "code",
   "execution_count": null,
   "metadata": {},
   "outputs": [],
   "source": [
    "# 라이브러리 로드 \n",
    "import pandas as pd"
   ]
  },
  {
   "cell_type": "code",
   "execution_count": null,
   "metadata": {},
   "outputs": [],
   "source": [
    "# 스리즈 형태의 데이터를 생성 \n",
    "pd_series = pd.Series(\n",
    "    [5000, 6000, 6500, 6500], \n",
    "    index = ['아메리카노', '카페라떼', '카페모카', '카푸치노']\n",
    ")"
   ]
  },
  {
   "cell_type": "code",
   "execution_count": null,
   "metadata": {},
   "outputs": [],
   "source": [
    "pd_series"
   ]
  },
  {
   "cell_type": "code",
   "execution_count": null,
   "metadata": {},
   "outputs": [],
   "source": [
    "# Series class에는 values, index 변수가 존재\n",
    "print(pd_series.index)\n",
    "print(pd_series.values)"
   ]
  },
  {
   "cell_type": "code",
   "execution_count": null,
   "metadata": {},
   "outputs": [],
   "source": [
    "# DataFrame 2차원 데이터 생성 \n",
    "_values = [\n",
    "    [1,2,3], \n",
    "    [4,5,6], \n",
    "    [7,8,9]\n",
    "]\n",
    "_index = ['a', 'b', 'c']\n",
    "_columns = ['A', 'B', 'C']\n",
    "\n",
    "df = pd.DataFrame(_values, index = _index, columns=_columns)\n"
   ]
  },
  {
   "cell_type": "code",
   "execution_count": null,
   "metadata": {},
   "outputs": [],
   "source": [
    "print(df)"
   ]
  },
  {
   "cell_type": "code",
   "execution_count": null,
   "metadata": {},
   "outputs": [],
   "source": [
    "df"
   ]
  },
  {
   "cell_type": "code",
   "execution_count": null,
   "metadata": {},
   "outputs": [],
   "source": [
    "# DataFrame class 안에는 적어도 3개의 독립적인 변수(values, index, columns)\n",
    "print(df.values)\n",
    "print(df.index)\n",
    "print(df.columns)"
   ]
  },
  {
   "cell_type": "code",
   "execution_count": null,
   "metadata": {},
   "outputs": [],
   "source": [
    "df.columns = [1,2,3]"
   ]
  },
  {
   "cell_type": "code",
   "execution_count": null,
   "metadata": {},
   "outputs": [],
   "source": [
    "df"
   ]
  },
  {
   "cell_type": "code",
   "execution_count": null,
   "metadata": {},
   "outputs": [],
   "source": [
    "df.columns = ['A', 'B', 'C']"
   ]
  },
  {
   "cell_type": "code",
   "execution_count": null,
   "metadata": {},
   "outputs": [],
   "source": [
    "df"
   ]
  },
  {
   "cell_type": "code",
   "execution_count": null,
   "metadata": {},
   "outputs": [],
   "source": [
    "df = df.rename(columns={'C' : 'F'})"
   ]
  },
  {
   "cell_type": "code",
   "execution_count": null,
   "metadata": {},
   "outputs": [],
   "source": [
    "df"
   ]
  },
  {
   "cell_type": "code",
   "execution_count": null,
   "metadata": {},
   "outputs": [],
   "source": [
    "# dict 형태 데이터를 이용하여 DataFrame 대입 \n",
    "dict1 = {\n",
    "    'name' : ['test', 'test2', 'test3'], \n",
    "    'age' : [20, 30, 40]\n",
    "}"
   ]
  },
  {
   "cell_type": "code",
   "execution_count": null,
   "metadata": {},
   "outputs": [],
   "source": [
    "df2 = pd.DataFrame(dict1)\n",
    "df2"
   ]
  },
  {
   "cell_type": "code",
   "execution_count": null,
   "metadata": {},
   "outputs": [],
   "source": [
    "dict2 = [\n",
    "    {\n",
    "        'name' : 'test', \n",
    "        'age' : 20\n",
    "    },\n",
    "    {\n",
    "        'name' : 'test2', \n",
    "        'age' : 30\n",
    "    }, \n",
    "    {\n",
    "        'name' : 'test3', \n",
    "        'age' : 40\n",
    "    }\n",
    "]"
   ]
  },
  {
   "cell_type": "code",
   "execution_count": null,
   "metadata": {},
   "outputs": [],
   "source": [
    "# test2 데이터만 출력하려면\n",
    "print(dict2)\n",
    "print(dict2[1])\n",
    "print(dict2[1]['name'])"
   ]
  },
  {
   "cell_type": "code",
   "execution_count": null,
   "metadata": {},
   "outputs": [],
   "source": [
    "df3 = pd.DataFrame(dict2)\n",
    "df3"
   ]
  },
  {
   "cell_type": "markdown",
   "metadata": {},
   "source": [
    "### pandas를 이용하여 외부의 파일을 로드 \n",
    "- read_xxxx({path}) : 해당하는 path에 있는 파일을 로드 \n",
    "\n",
    "### 경로\n",
    "- 절대 경로\n",
    "    - 절대적인 주소를 의미\n",
    "    - 환경이 변하더라도 같은 위치를 지정 \n",
    "    - ex) (c:/users/admin/document/a.txt)\n",
    "    - ex) WEB (https://www.google.com)\n",
    "- 상대 경로\n",
    "    - 상대적인 주소를 의미\n",
    "    - 환경이 변하면 환경에 따라 위치도 변경\n",
    "    - 현재 작업중인 디렉토리에서 상위로 이동하거나 하위로 이동\n",
    "    - ./ : 현재 작업중인 디렉토리 \n",
    "    - ../ : 상위 폴더로 이동\n",
    "    - 폴더명/ : 하위 폴더로 이동"
   ]
  },
  {
   "cell_type": "code",
   "execution_count": null,
   "metadata": {},
   "outputs": [],
   "source": [
    "# 절대경로로 파일을 로드 \n",
    "corona = pd.read_csv('D:\\\\python_\\\\ezen_python\\\\csv\\\\corona.csv')"
   ]
  },
  {
   "cell_type": "code",
   "execution_count": null,
   "metadata": {},
   "outputs": [],
   "source": [
    "# 상대경로로 파일을 로드 \n",
    "# 상위 폴더로 이동(../) -> csv 하위폴더 이동(csv/) -> corona.csv\n",
    "corona2 = pd.read_csv(\"../csv/corona.csv\")"
   ]
  },
  {
   "cell_type": "code",
   "execution_count": null,
   "metadata": {},
   "outputs": [],
   "source": [
    "corona2"
   ]
  },
  {
   "cell_type": "code",
   "execution_count": null,
   "metadata": {},
   "outputs": [],
   "source": [
    "# 데이프레임의 정보 \n",
    "corona2.info()"
   ]
  },
  {
   "cell_type": "code",
   "execution_count": null,
   "metadata": {},
   "outputs": [],
   "source": [
    "# 데이터프레임의 통계 분석용 요약 정보 출력 \n",
    "corona2.describe()"
   ]
  },
  {
   "cell_type": "code",
   "execution_count": null,
   "metadata": {},
   "outputs": [],
   "source": [
    "# 결측치인가 아닌가를 판단하는 함수\n",
    "# isXXX() : 특정한 데이터가 존재하는가? -> 결과값은 bool\n",
    "# na : 결측치를 의미\n",
    "corona2.isna().sum()"
   ]
  },
  {
   "cell_type": "code",
   "execution_count": null,
   "metadata": {},
   "outputs": [],
   "source": [
    "# 특정 컬럼을 제거 \n",
    "# drop({조건식}, axis={0,1 | 'rows','columns'}, inplace={bool})\n",
    "# axis : 행을 지울것인가 열을 지울것인가 선택\n",
    "# inpalce : 기준이 되는 데이터프레임을 변경할것인가?\n",
    "\n",
    "corona2.drop('Unnamed: 0', axis=1, inplace=True)\n",
    "# corona2 = corona2.drop('Unnamed: 0', axis=1)"
   ]
  },
  {
   "cell_type": "code",
   "execution_count": null,
   "metadata": {},
   "outputs": [],
   "source": [
    "corona2.head()"
   ]
  },
  {
   "cell_type": "code",
   "execution_count": null,
   "metadata": {},
   "outputs": [],
   "source": [
    "df = corona2.copy()"
   ]
  },
  {
   "cell_type": "code",
   "execution_count": null,
   "metadata": {},
   "outputs": [],
   "source": [
    "# df라는 데이터에서 seq라는 컬럼을 삭제\n",
    "df = df.drop('seq', axis='columns')"
   ]
  },
  {
   "cell_type": "code",
   "execution_count": null,
   "metadata": {},
   "outputs": [],
   "source": [
    "df.head(1)"
   ]
  },
  {
   "cell_type": "code",
   "execution_count": null,
   "metadata": {},
   "outputs": [],
   "source": [
    "# 컬럼의 이름을 변경\n",
    "df.rename(columns={\n",
    "    'createDt' : '등록일시', \n",
    "    'deathCnt' : '총사망자', \n",
    "    'decideCnt' : '총확진자', \n",
    "    'stateDt' : '기준일', \n",
    "    'stateTime' : '기준시간', \n",
    "    'updateDt' : '수정일시', \n",
    "    'accExamCnt' : '누적의심자', \n",
    "    'accDefRate' : '누적확진율'\n",
    "})"
   ]
  },
  {
   "cell_type": "code",
   "execution_count": null,
   "metadata": {},
   "outputs": [],
   "source": [
    "df.columns = ['등록일시', '총사망자', '총확진자', '기준일', '기준시간', '수정일시',\n",
    "              '누적의심자', '누적확진율']"
   ]
  },
  {
   "cell_type": "code",
   "execution_count": null,
   "metadata": {},
   "outputs": [],
   "source": [
    "df.head(5)"
   ]
  },
  {
   "cell_type": "code",
   "execution_count": null,
   "metadata": {},
   "outputs": [],
   "source": [
    "# 특정한 컬럼의 데이터를 기준으로 정렬을 변경\n",
    "# sort_values( {기준이 컬럼} , ascending = {bool} , inplace = {bool} )\n",
    "df.sort_values(['등록일시'], ascending=True, inplace=True)"
   ]
  },
  {
   "cell_type": "code",
   "execution_count": null,
   "metadata": {},
   "outputs": [],
   "source": [
    "df.head()"
   ]
  },
  {
   "cell_type": "code",
   "execution_count": null,
   "metadata": {},
   "outputs": [],
   "source": [
    "# 인덱스를 재지정\n",
    "# reset_index(drop = {bool}, inplace= {bool})\n",
    "# drop : 기존의 인덱스를 제거할것인가?\n",
    "df.reset_index(drop=True, inplace=True)\n",
    "# df.reset_index().drop('index', axis=1)"
   ]
  },
  {
   "cell_type": "code",
   "execution_count": null,
   "metadata": {},
   "outputs": [],
   "source": [
    "df.tail(10)"
   ]
  },
  {
   "cell_type": "code",
   "execution_count": null,
   "metadata": {},
   "outputs": [],
   "source": [
    "# 결측치을 특정값으로 대체\n",
    "# fillna()\n",
    "# fillna(n) : 결측치를 n으로 대체\n",
    "# fillna(method = {'ffill' | 'bfill'})\n",
    "\n",
    "# 특정컬럼의 데이터만 확인 \n",
    "df['수정일시'] = df['수정일시'].fillna('-')"
   ]
  },
  {
   "cell_type": "code",
   "execution_count": null,
   "metadata": {},
   "outputs": [],
   "source": [
    "df.isna().sum()"
   ]
  },
  {
   "cell_type": "code",
   "execution_count": null,
   "metadata": {},
   "outputs": [],
   "source": [
    "# fillna(method='ffill') : 결측치 전의 데이터로 결측치를 채워준다. \n",
    "df['누적의심자'] = df['누적의심자'].fillna(method='ffill')"
   ]
  },
  {
   "cell_type": "code",
   "execution_count": null,
   "metadata": {},
   "outputs": [],
   "source": [
    "# fillna(method='bfill') : 결측치 후의 데이터로 결측치를 채워준다. \n",
    "df['누적확진율'] = df['누적확진율'].fillna(method='bfill')"
   ]
  },
  {
   "cell_type": "code",
   "execution_count": null,
   "metadata": {},
   "outputs": [],
   "source": [
    "df.isna().sum()"
   ]
  },
  {
   "cell_type": "code",
   "execution_count": null,
   "metadata": {},
   "outputs": [],
   "source": [
    "df.head(5)"
   ]
  },
  {
   "cell_type": "markdown",
   "metadata": {},
   "source": [
    "### 데이터프레임의 필터\n",
    "- loc[{행의 조건}, {열의 조건}]\n",
    "    - 특정한 행의 조건과 열의 조건이 맞는 데이터를 출력\n",
    "- iloc[{행의 위치}, {열의 위치}]\n",
    "    - 특정한 행의 위치와 열의 위치가 맞는 데이터를 출력"
   ]
  },
  {
   "cell_type": "code",
   "execution_count": null,
   "metadata": {},
   "outputs": [],
   "source": [
    "df2 = df.copy()"
   ]
  },
  {
   "cell_type": "code",
   "execution_count": null,
   "metadata": {},
   "outputs": [],
   "source": [
    "df2.drop(0, axis=0, inplace=True)"
   ]
  },
  {
   "cell_type": "code",
   "execution_count": null,
   "metadata": {},
   "outputs": [],
   "source": [
    "# 행과 열의 조건식이 모두 존재하는 경우\n",
    "df2.loc[1:3, '총사망자':'기준일']"
   ]
  },
  {
   "cell_type": "code",
   "execution_count": null,
   "metadata": {},
   "outputs": [],
   "source": [
    "# 인덱스의 조건식만 존재하는 경우\n",
    "df2.loc[1:3]"
   ]
  },
  {
   "cell_type": "code",
   "execution_count": null,
   "metadata": {},
   "outputs": [],
   "source": [
    "# 컬럼의 조건만 존재하는 경우\n",
    "df2.loc[:, ['총사망자', '기준시간']]"
   ]
  },
  {
   "cell_type": "code",
   "execution_count": null,
   "metadata": {},
   "outputs": [],
   "source": [
    "df2[ ['총사망자', '기준시간'] ]"
   ]
  },
  {
   "cell_type": "code",
   "execution_count": null,
   "metadata": {},
   "outputs": [],
   "source": [
    "df2[ 1:3 ][ ['총사망자', '총확진자'] ]"
   ]
  },
  {
   "cell_type": "code",
   "execution_count": null,
   "metadata": {},
   "outputs": [],
   "source": [
    "df2.iloc[ 1:3 , 1:3]"
   ]
  },
  {
   "cell_type": "code",
   "execution_count": null,
   "metadata": {},
   "outputs": [],
   "source": [
    "len(df)"
   ]
  },
  {
   "cell_type": "code",
   "execution_count": null,
   "metadata": {},
   "outputs": [],
   "source": [
    "# 일일확진자 = 오늘의 총확진자 - 전날의 총확진자\n",
    "# 데이터프레임의 길이 - 1 만큼 반복 \n",
    "\n",
    "# 새로운 리스트 생성\n",
    "data_list = [0]\n",
    "for i in range(0, len(df)-1, 1):\n",
    "    data = df.loc[i+1, '총확진자'] - df.loc[i, '총확진자']\n",
    "    data_list.append(data)\n",
    "print(data_list)"
   ]
  },
  {
   "cell_type": "code",
   "execution_count": null,
   "metadata": {},
   "outputs": [],
   "source": [
    "df['일일확진자'] = data_list"
   ]
  },
  {
   "cell_type": "code",
   "execution_count": null,
   "metadata": {},
   "outputs": [],
   "source": [
    "df.head()"
   ]
  },
  {
   "cell_type": "code",
   "execution_count": null,
   "metadata": {},
   "outputs": [],
   "source": [
    "# shift(n) : n만큼 인덱스가 이동한 데이터를 생성\n",
    "df['일일확진자2'] = (df['총확진자'] - df['총확진자'].shift(1)).fillna(0)"
   ]
  },
  {
   "cell_type": "code",
   "execution_count": null,
   "metadata": {},
   "outputs": [],
   "source": [
    "df.head(5)"
   ]
  },
  {
   "cell_type": "code",
   "execution_count": null,
   "metadata": {},
   "outputs": [],
   "source": [
    "# diff(n) : 현재 위치에서 n만큼 인덱스를 이동한 데이터와의 차이를 출력\n",
    "df['일일확진자3'] = df['총확진자'].diff().fillna(0)"
   ]
  },
  {
   "cell_type": "code",
   "execution_count": null,
   "metadata": {},
   "outputs": [],
   "source": [
    "df.head()"
   ]
  },
  {
   "cell_type": "code",
   "execution_count": null,
   "metadata": {},
   "outputs": [],
   "source": [
    "# 일일확진자가 음수인 데이터가 존재하는가?\n",
    "# 반복문 + 조건문 \n",
    "# 필터링 인덱스값에 일일확진자 조건 -> 반복실행 음수인 데이터만 출력\n",
    "for i in range(0, len(df), 1):\n",
    "    if( df.loc[i, '일일확진자'] < 0 ):\n",
    "        print(i)\n",
    "\n",
    "print('반복문 종료')"
   ]
  },
  {
   "cell_type": "code",
   "execution_count": null,
   "metadata": {},
   "outputs": [],
   "source": [
    "df.loc[ df['일일확진자'] < 0 ]"
   ]
  },
  {
   "cell_type": "code",
   "execution_count": null,
   "metadata": {},
   "outputs": [],
   "source": [
    "df.loc[444:448]"
   ]
  },
  {
   "cell_type": "code",
   "execution_count": null,
   "metadata": {},
   "outputs": [],
   "source": [
    "df.loc[445, '등록일시'] = '2021-05-31 00:00:00.000'"
   ]
  },
  {
   "cell_type": "code",
   "execution_count": null,
   "metadata": {},
   "outputs": [],
   "source": [
    "df.loc[444:448]"
   ]
  },
  {
   "cell_type": "code",
   "execution_count": null,
   "metadata": {},
   "outputs": [],
   "source": [
    "## 일일확진자 잘못되었다. \n",
    "# 등록일시를 기준으로 오름차순 정렬\n",
    "df.sort_values('등록일시', ascending=True, inplace=True)\n",
    "# 인덱스를 초기화(기존의 인덱스를 제거)\n",
    "df.reset_index(drop=True, inplace=True)\n",
    "# ['일일확진자', '일일확진자2', '일일확진자3'] 모두 제거 \n",
    "df.drop(['일일확진자', '일일확진자2', '일일확진자3'], axis=1, inplace=True)\n",
    "# 일일확진자, 일일사망자 파생변수를 생성하여 전날의 데이터와 오늘의 데이터의 차이로 데이터를 채워준다. \n",
    "df['일일확진자'] = df['총확진자'].diff().fillna(0)\n",
    "df['일일사망자'] = (df['총사망자'] - df['총사망자'].shift()).fillna(0)\n",
    "# 일일확진자, 일일사망자의 결측치는 0으로 대체\n",
    "df.head()"
   ]
  },
  {
   "cell_type": "code",
   "execution_count": null,
   "metadata": {},
   "outputs": [],
   "source": [
    "df.loc[ df['일일확진자'] < 0  ]"
   ]
  },
  {
   "cell_type": "code",
   "execution_count": null,
   "metadata": {},
   "outputs": [],
   "source": [
    "# 일일사망자를 while문을 이용하여 새로운 파생변수를 생성\n",
    "# data_list = []\n",
    "\n",
    "i = 0\n",
    "\n",
    "while i < len(df):\n",
    "    if (i == 0):\n",
    "        df.loc[i, '일일사망자2'] = 0\n",
    "    else:\n",
    "        data = df.loc[i, '총사망자'] - df.loc[i-1, '총사망자']\n",
    "        df.loc[i, '일일사망자2'] = data\n",
    "    i += 1"
   ]
  },
  {
   "cell_type": "code",
   "execution_count": null,
   "metadata": {},
   "outputs": [],
   "source": [
    "df.head()"
   ]
  },
  {
   "cell_type": "code",
   "execution_count": null,
   "metadata": {},
   "outputs": [],
   "source": [
    "!pip install matplotlib"
   ]
  },
  {
   "cell_type": "code",
   "execution_count": null,
   "metadata": {},
   "outputs": [],
   "source": [
    "import matplotlib.pyplot as plt"
   ]
  },
  {
   "cell_type": "code",
   "execution_count": null,
   "metadata": {},
   "outputs": [],
   "source": [
    "# plot() : 라인그래프 \n",
    "x = df.tail(100).index\n",
    "y = df.tail(100)['일일확진자']\n",
    "\n",
    "plt.plot(x, y)\n",
    "plt.show()"
   ]
  },
  {
   "cell_type": "code",
   "execution_count": null,
   "metadata": {},
   "outputs": [],
   "source": [
    "# 일일사망자는 바형 그래프 표시 \n",
    "x = df.tail(50).index\n",
    "y = df.tail(50)['일일사망자']\n",
    "\n",
    "plt.bar(x, y)\n",
    "plt.show()"
   ]
  }
 ],
 "metadata": {
  "kernelspec": {
   "display_name": "Python 3",
   "language": "python",
   "name": "python3"
  },
  "language_info": {
   "codemirror_mode": {
    "name": "ipython",
    "version": 3
   },
   "file_extension": ".py",
   "mimetype": "text/x-python",
   "name": "python",
   "nbconvert_exporter": "python",
   "pygments_lexer": "ipython3",
   "version": "3.11.4"
  }
 },
 "nbformat": 4,
 "nbformat_minor": 2
}
