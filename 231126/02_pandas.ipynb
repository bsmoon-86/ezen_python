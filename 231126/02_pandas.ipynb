{
 "cells": [
  {
   "cell_type": "markdown",
   "metadata": {},
   "source": [
    "### pandas\n",
    "1. 데이터 분석에서 필수 라이브러리 \n",
    "2. 데이터의 구조는 Series, DataFrame \n",
    "3. Series - 1차원 데이터 \n",
    "4. DataFrame - 2차원 데이터"
   ]
  },
  {
   "cell_type": "code",
   "execution_count": null,
   "metadata": {},
   "outputs": [],
   "source": [
    "## 외부의 라이브러리 다운 \n",
    "!pip install pandas"
   ]
  },
  {
   "cell_type": "code",
   "execution_count": null,
   "metadata": {},
   "outputs": [],
   "source": [
    "# 라이브러리 로드 \n",
    "import pandas as pd"
   ]
  },
  {
   "cell_type": "code",
   "execution_count": null,
   "metadata": {},
   "outputs": [],
   "source": [
    "# 스리즈 형태의 데이터를 생성 \n",
    "pd_series = pd.Series(\n",
    "    [5000, 6000, 6500, 6500], \n",
    "    index = ['아메리카노', '카페라떼', '카페모카', '카푸치노']\n",
    ")"
   ]
  },
  {
   "cell_type": "code",
   "execution_count": null,
   "metadata": {},
   "outputs": [],
   "source": [
    "pd_series"
   ]
  },
  {
   "cell_type": "code",
   "execution_count": null,
   "metadata": {},
   "outputs": [],
   "source": [
    "# Series class에는 values, index 변수가 존재\n",
    "print(pd_series.index)\n",
    "print(pd_series.values)"
   ]
  },
  {
   "cell_type": "code",
   "execution_count": null,
   "metadata": {},
   "outputs": [],
   "source": [
    "# DataFrame 2차원 데이터 생성 \n",
    "_values = [\n",
    "    [1,2,3], \n",
    "    [4,5,6], \n",
    "    [7,8,9]\n",
    "]\n",
    "_index = ['a', 'b', 'c']\n",
    "_columns = ['A', 'B', 'C']\n",
    "\n",
    "df = pd.DataFrame(_values, index = _index, columns=_columns)\n"
   ]
  },
  {
   "cell_type": "code",
   "execution_count": null,
   "metadata": {},
   "outputs": [],
   "source": [
    "print(df)"
   ]
  },
  {
   "cell_type": "code",
   "execution_count": null,
   "metadata": {},
   "outputs": [],
   "source": [
    "df"
   ]
  },
  {
   "cell_type": "code",
   "execution_count": null,
   "metadata": {},
   "outputs": [],
   "source": [
    "# DataFrame class 안에는 적어도 3개의 독립적인 변수(values, index, columns)\n",
    "print(df.values)\n",
    "print(df.index)\n",
    "print(df.columns)"
   ]
  },
  {
   "cell_type": "code",
   "execution_count": null,
   "metadata": {},
   "outputs": [],
   "source": [
    "df.columns = [1,2,3]"
   ]
  },
  {
   "cell_type": "code",
   "execution_count": null,
   "metadata": {},
   "outputs": [],
   "source": [
    "df"
   ]
  },
  {
   "cell_type": "code",
   "execution_count": null,
   "metadata": {},
   "outputs": [],
   "source": [
    "df.columns = ['A', 'B', 'C']"
   ]
  },
  {
   "cell_type": "code",
   "execution_count": null,
   "metadata": {},
   "outputs": [],
   "source": [
    "df"
   ]
  },
  {
   "cell_type": "code",
   "execution_count": null,
   "metadata": {},
   "outputs": [],
   "source": [
    "df = df.rename(columns={'C' : 'F'})"
   ]
  },
  {
   "cell_type": "code",
   "execution_count": null,
   "metadata": {},
   "outputs": [],
   "source": [
    "df"
   ]
  },
  {
   "cell_type": "code",
   "execution_count": null,
   "metadata": {},
   "outputs": [],
   "source": [
    "# dict 형태 데이터를 이용하여 DataFrame 대입 \n",
    "dict1 = {\n",
    "    'name' : ['test', 'test2', 'test3'], \n",
    "    'age' : [20, 30, 40]\n",
    "}"
   ]
  },
  {
   "cell_type": "code",
   "execution_count": null,
   "metadata": {},
   "outputs": [],
   "source": [
    "df2 = pd.DataFrame(dict1)\n",
    "df2"
   ]
  },
  {
   "cell_type": "code",
   "execution_count": null,
   "metadata": {},
   "outputs": [],
   "source": [
    "dict2 = [\n",
    "    {\n",
    "        'name' : 'test', \n",
    "        'age' : 20\n",
    "    },\n",
    "    {\n",
    "        'name' : 'test2', \n",
    "        'age' : 30\n",
    "    }, \n",
    "    {\n",
    "        'name' : 'test3', \n",
    "        'age' : 40\n",
    "    }\n",
    "]"
   ]
  },
  {
   "cell_type": "code",
   "execution_count": null,
   "metadata": {},
   "outputs": [],
   "source": [
    "# test2 데이터만 출력하려면\n",
    "print(dict2)\n",
    "print(dict2[1])\n",
    "print(dict2[1]['name'])"
   ]
  },
  {
   "cell_type": "code",
   "execution_count": null,
   "metadata": {},
   "outputs": [],
   "source": [
    "df3 = pd.DataFrame(dict2)\n",
    "df3"
   ]
  },
  {
   "cell_type": "markdown",
   "metadata": {},
   "source": [
    "### pandas를 이용하여 외부의 파일을 로드 \n",
    "- read_xxxx({path}) : 해당하는 path에 있는 파일을 로드 \n",
    "\n",
    "### 경로\n",
    "- 절대 경로\n",
    "    - 절대적인 주소를 의미\n",
    "    - 환경이 변하더라도 같은 위치를 지정 \n",
    "    - ex) (c:/users/admin/document/a.txt)\n",
    "    - ex) WEB (https://www.google.com)\n",
    "- 상대 경로\n",
    "    - 상대적인 주소를 의미\n",
    "    - 환경이 변하면 환경에 따라 위치도 변경\n",
    "    - 현재 작업중인 디렉토리에서 상위로 이동하거나 하위로 이동\n",
    "    - ./ : 현재 작업중인 디렉토리 \n",
    "    - ../ : 상위 폴더로 이동\n",
    "    - 폴더명/ : 하위 폴더로 이동"
   ]
  },
  {
   "cell_type": "code",
   "execution_count": null,
   "metadata": {},
   "outputs": [],
   "source": [
    "# 절대경로로 파일을 로드 \n",
    "corona = pd.read_csv('D:\\\\python_\\\\ezen_python\\\\csv\\\\corona.csv')"
   ]
  },
  {
   "cell_type": "code",
   "execution_count": null,
   "metadata": {},
   "outputs": [],
   "source": [
    "# 상대경로로 파일을 로드 \n",
    "# 상위 폴더로 이동(../) -> csv 하위폴더 이동(csv/) -> corona.csv\n",
    "corona2 = pd.read_csv(\"../csv/corona.csv\")"
   ]
  },
  {
   "cell_type": "code",
   "execution_count": null,
   "metadata": {},
   "outputs": [],
   "source": [
    "corona2"
   ]
  },
  {
   "cell_type": "code",
   "execution_count": null,
   "metadata": {},
   "outputs": [],
   "source": [
    "# 데이프레임의 정보 \n",
    "corona2.info()"
   ]
  },
  {
   "cell_type": "code",
   "execution_count": null,
   "metadata": {},
   "outputs": [],
   "source": [
    "# 데이터프레임의 통계 분석용 요약 정보 출력 \n",
    "corona2.describe()"
   ]
  },
  {
   "cell_type": "code",
   "execution_count": null,
   "metadata": {},
   "outputs": [],
   "source": [
    "# 결측치인가 아닌가를 판단하는 함수\n",
    "# isXXX() : 특정한 데이터가 존재하는가? -> 결과값은 bool\n",
    "# na : 결측치를 의미\n",
    "corona2.isna().sum()"
   ]
  },
  {
   "cell_type": "code",
   "execution_count": null,
   "metadata": {},
   "outputs": [],
   "source": [
    "# 특정 컬럼을 제거 \n",
    "# drop({조건식}, axis={0,1 | 'rows','columns'}, inplace={bool})\n",
    "# axis : 행을 지울것인가 열을 지울것인가 선택\n",
    "# inpalce : 기준이 되는 데이터프레임을 변경할것인가?\n",
    "\n",
    "corona2.drop('Unnamed: 0', axis=1, inplace=True)\n",
    "# corona2 = corona2.drop('Unnamed: 0', axis=1)"
   ]
  },
  {
   "cell_type": "code",
   "execution_count": null,
   "metadata": {},
   "outputs": [],
   "source": [
    "corona2.head()"
   ]
  },
  {
   "cell_type": "code",
   "execution_count": null,
   "metadata": {},
   "outputs": [],
   "source": [
    "df = corona2.copy()"
   ]
  },
  {
   "cell_type": "code",
   "execution_count": null,
   "metadata": {},
   "outputs": [],
   "source": [
    "# df라는 데이터에서 seq라는 컬럼을 삭제\n",
    "df = df.drop('seq', axis='columns')"
   ]
  },
  {
   "cell_type": "code",
   "execution_count": null,
   "metadata": {},
   "outputs": [],
   "source": [
    "df.head(1)"
   ]
  },
  {
   "cell_type": "code",
   "execution_count": null,
   "metadata": {},
   "outputs": [],
   "source": [
    "# 컬럼의 이름을 변경\n",
    "df.rename(columns={\n",
    "    'createDt' : '등록일시', \n",
    "    'deathCnt' : '총사망자', \n",
    "    'decideCnt' : '총확진자', \n",
    "    'stateDt' : '기준일', \n",
    "    'stateTime' : '기준시간', \n",
    "    'updateDt' : '수정일시', \n",
    "    'accExamCnt' : '누적의심자', \n",
    "    'accDefRate' : '누적확진율'\n",
    "})"
   ]
  },
  {
   "cell_type": "code",
   "execution_count": null,
   "metadata": {},
   "outputs": [],
   "source": [
    "df.columns = ['등록일시', '총사망자', '총확진자', '기준일', '기준시간', '수정일시',\n",
    "              '누적의심자', '누적확진율']"
   ]
  },
  {
   "cell_type": "code",
   "execution_count": null,
   "metadata": {},
   "outputs": [],
   "source": [
    "df.head(5)"
   ]
  },
  {
   "cell_type": "code",
   "execution_count": null,
   "metadata": {},
   "outputs": [],
   "source": [
    "# 특정한 컬럼의 데이터를 기준으로 정렬을 변경\n",
    "# sort_values( {기준이 컬럼} , ascending = {bool} , inplace = {bool} )\n",
    "df.sort_values(['등록일시'], ascending=True, inplace=True)"
   ]
  },
  {
   "cell_type": "code",
   "execution_count": null,
   "metadata": {},
   "outputs": [],
   "source": [
    "df.head()"
   ]
  },
  {
   "cell_type": "code",
   "execution_count": null,
   "metadata": {},
   "outputs": [],
   "source": [
    "# 인덱스를 재지정\n",
    "# reset_index(drop = {bool}, inplace= {bool})\n",
    "# drop : 기존의 인덱스를 제거할것인가?\n",
    "df.reset_index(drop=True, inplace=True)\n",
    "# df.reset_index().drop('index', axis=1)"
   ]
  },
  {
   "cell_type": "code",
   "execution_count": null,
   "metadata": {},
   "outputs": [],
   "source": [
    "df.tail(10)"
   ]
  },
  {
   "cell_type": "code",
   "execution_count": null,
   "metadata": {},
   "outputs": [],
   "source": [
    "# 결측치을 특정값으로 대체\n",
    "# fillna()\n",
    "# fillna(n) : 결측치를 n으로 대체\n",
    "# fillna(method = {'ffill' | 'bfill'})\n",
    "\n",
    "# 특정컬럼의 데이터만 확인 \n",
    "df['수정일시'] = df['수정일시'].fillna('-')"
   ]
  },
  {
   "cell_type": "code",
   "execution_count": null,
   "metadata": {},
   "outputs": [],
   "source": [
    "df.isna().sum()"
   ]
  },
  {
   "cell_type": "code",
   "execution_count": null,
   "metadata": {},
   "outputs": [],
   "source": [
    "# fillna(method='ffill') : 결측치 전의 데이터로 결측치를 채워준다. \n",
    "df['누적의심자'] = df['누적의심자'].fillna(method='ffill')"
   ]
  },
  {
   "cell_type": "code",
   "execution_count": null,
   "metadata": {},
   "outputs": [],
   "source": [
    "# fillna(method='bfill') : 결측치 후의 데이터로 결측치를 채워준다. \n",
    "df['누적확진율'] = df['누적확진율'].fillna(method='bfill')"
   ]
  },
  {
   "cell_type": "code",
   "execution_count": null,
   "metadata": {},
   "outputs": [],
   "source": [
    "df.isna().sum()"
   ]
  },
  {
   "cell_type": "code",
   "execution_count": null,
   "metadata": {},
   "outputs": [],
   "source": [
    "df.head(5)"
   ]
  },
  {
   "cell_type": "markdown",
   "metadata": {},
   "source": [
    "### 데이터프레임의 필터\n",
    "- loc[{행의 조건}, {열의 조건}]\n",
    "    - 특정한 행의 조건과 열의 조건이 맞는 데이터를 출력\n",
    "- iloc[{행의 위치}, {열의 위치}]\n",
    "    - 특정한 행의 위치와 열의 위치가 맞는 데이터를 출력"
   ]
  },
  {
   "cell_type": "code",
   "execution_count": null,
   "metadata": {},
   "outputs": [],
   "source": [
    "df2 = df.copy()"
   ]
  },
  {
   "cell_type": "code",
   "execution_count": null,
   "metadata": {},
   "outputs": [],
   "source": [
    "df2.drop(0, axis=0, inplace=True)"
   ]
  },
  {
   "cell_type": "code",
   "execution_count": null,
   "metadata": {},
   "outputs": [],
   "source": [
    "# 행과 열의 조건식이 모두 존재하는 경우\n",
    "df2.loc[1:3, '총사망자':'기준일']"
   ]
  },
  {
   "cell_type": "code",
   "execution_count": 54,
   "metadata": {},
   "outputs": [
    {
     "data": {
      "text/html": [
       "<div>\n",
       "<style scoped>\n",
       "    .dataframe tbody tr th:only-of-type {\n",
       "        vertical-align: middle;\n",
       "    }\n",
       "\n",
       "    .dataframe tbody tr th {\n",
       "        vertical-align: top;\n",
       "    }\n",
       "\n",
       "    .dataframe thead th {\n",
       "        text-align: right;\n",
       "    }\n",
       "</style>\n",
       "<table border=\"1\" class=\"dataframe\">\n",
       "  <thead>\n",
       "    <tr style=\"text-align: right;\">\n",
       "      <th></th>\n",
       "      <th>등록일시</th>\n",
       "      <th>총사망자</th>\n",
       "      <th>총확진자</th>\n",
       "      <th>기준일</th>\n",
       "      <th>기준시간</th>\n",
       "      <th>수정일시</th>\n",
       "      <th>누적의심자</th>\n",
       "      <th>누적확진율</th>\n",
       "    </tr>\n",
       "  </thead>\n",
       "  <tbody>\n",
       "    <tr>\n",
       "      <th>1</th>\n",
       "      <td>2020-03-11 00:00:00.000</td>\n",
       "      <td>60</td>\n",
       "      <td>7755</td>\n",
       "      <td>20200311</td>\n",
       "      <td>00:00</td>\n",
       "      <td>2021-10-07 10:30:51.51</td>\n",
       "      <td>222395.0</td>\n",
       "      <td>3.804175</td>\n",
       "    </tr>\n",
       "    <tr>\n",
       "      <th>2</th>\n",
       "      <td>2020-03-12 00:00:00.000</td>\n",
       "      <td>66</td>\n",
       "      <td>7869</td>\n",
       "      <td>20200312</td>\n",
       "      <td>00:00</td>\n",
       "      <td>2021-10-07 10:30:51.51</td>\n",
       "      <td>234998.0</td>\n",
       "      <td>3.621744</td>\n",
       "    </tr>\n",
       "    <tr>\n",
       "      <th>3</th>\n",
       "      <td>2020-03-13 00:00:00.000</td>\n",
       "      <td>67</td>\n",
       "      <td>7979</td>\n",
       "      <td>20200313</td>\n",
       "      <td>00:00</td>\n",
       "      <td>2021-10-07 10:30:51.51</td>\n",
       "      <td>248647.0</td>\n",
       "      <td>3.458499</td>\n",
       "    </tr>\n",
       "  </tbody>\n",
       "</table>\n",
       "</div>"
      ],
      "text/plain": [
       "                      등록일시  총사망자  총확진자       기준일   기준시간  \\\n",
       "1  2020-03-11 00:00:00.000    60  7755  20200311  00:00   \n",
       "2  2020-03-12 00:00:00.000    66  7869  20200312  00:00   \n",
       "3  2020-03-13 00:00:00.000    67  7979  20200313  00:00   \n",
       "\n",
       "                     수정일시     누적의심자     누적확진율  \n",
       "1  2021-10-07 10:30:51.51  222395.0  3.804175  \n",
       "2  2021-10-07 10:30:51.51  234998.0  3.621744  \n",
       "3  2021-10-07 10:30:51.51  248647.0  3.458499  "
      ]
     },
     "execution_count": 54,
     "metadata": {},
     "output_type": "execute_result"
    }
   ],
   "source": [
    "# 인덱스의 조건식만 존재하는 경우\n",
    "df2.loc[1:3]"
   ]
  },
  {
   "cell_type": "code",
   "execution_count": null,
   "metadata": {},
   "outputs": [],
   "source": [
    "# 컬럼의 조건만 존재하는 경우\n",
    "df2.loc[:, ['총사망자', '기준시간']]"
   ]
  },
  {
   "cell_type": "code",
   "execution_count": null,
   "metadata": {},
   "outputs": [],
   "source": [
    "df2[ ['총사망자', '기준시간'] ]"
   ]
  },
  {
   "cell_type": "code",
   "execution_count": 53,
   "metadata": {},
   "outputs": [
    {
     "data": {
      "text/html": [
       "<div>\n",
       "<style scoped>\n",
       "    .dataframe tbody tr th:only-of-type {\n",
       "        vertical-align: middle;\n",
       "    }\n",
       "\n",
       "    .dataframe tbody tr th {\n",
       "        vertical-align: top;\n",
       "    }\n",
       "\n",
       "    .dataframe thead th {\n",
       "        text-align: right;\n",
       "    }\n",
       "</style>\n",
       "<table border=\"1\" class=\"dataframe\">\n",
       "  <thead>\n",
       "    <tr style=\"text-align: right;\">\n",
       "      <th></th>\n",
       "      <th>총사망자</th>\n",
       "      <th>총확진자</th>\n",
       "    </tr>\n",
       "  </thead>\n",
       "  <tbody>\n",
       "    <tr>\n",
       "      <th>2</th>\n",
       "      <td>66</td>\n",
       "      <td>7869</td>\n",
       "    </tr>\n",
       "    <tr>\n",
       "      <th>3</th>\n",
       "      <td>67</td>\n",
       "      <td>7979</td>\n",
       "    </tr>\n",
       "  </tbody>\n",
       "</table>\n",
       "</div>"
      ],
      "text/plain": [
       "   총사망자  총확진자\n",
       "2    66  7869\n",
       "3    67  7979"
      ]
     },
     "execution_count": 53,
     "metadata": {},
     "output_type": "execute_result"
    }
   ],
   "source": [
    "df2[ 1:3 ][ ['총사망자', '총확진자'] ]"
   ]
  },
  {
   "cell_type": "code",
   "execution_count": 56,
   "metadata": {},
   "outputs": [
    {
     "data": {
      "text/html": [
       "<div>\n",
       "<style scoped>\n",
       "    .dataframe tbody tr th:only-of-type {\n",
       "        vertical-align: middle;\n",
       "    }\n",
       "\n",
       "    .dataframe tbody tr th {\n",
       "        vertical-align: top;\n",
       "    }\n",
       "\n",
       "    .dataframe thead th {\n",
       "        text-align: right;\n",
       "    }\n",
       "</style>\n",
       "<table border=\"1\" class=\"dataframe\">\n",
       "  <thead>\n",
       "    <tr style=\"text-align: right;\">\n",
       "      <th></th>\n",
       "      <th>총사망자</th>\n",
       "      <th>총확진자</th>\n",
       "    </tr>\n",
       "  </thead>\n",
       "  <tbody>\n",
       "    <tr>\n",
       "      <th>2</th>\n",
       "      <td>66</td>\n",
       "      <td>7869</td>\n",
       "    </tr>\n",
       "    <tr>\n",
       "      <th>3</th>\n",
       "      <td>67</td>\n",
       "      <td>7979</td>\n",
       "    </tr>\n",
       "  </tbody>\n",
       "</table>\n",
       "</div>"
      ],
      "text/plain": [
       "   총사망자  총확진자\n",
       "2    66  7869\n",
       "3    67  7979"
      ]
     },
     "execution_count": 56,
     "metadata": {},
     "output_type": "execute_result"
    }
   ],
   "source": [
    "df2.iloc[ 1:3 , 1:3]"
   ]
  },
  {
   "cell_type": "code",
   "execution_count": 60,
   "metadata": {},
   "outputs": [
    {
     "data": {
      "text/plain": [
       "820"
      ]
     },
     "execution_count": 60,
     "metadata": {},
     "output_type": "execute_result"
    }
   ],
   "source": [
    "len(df)"
   ]
  },
  {
   "cell_type": "code",
   "execution_count": 62,
   "metadata": {},
   "outputs": [
    {
     "name": "stdout",
     "output_type": "stream",
     "text": [
      "[0, 242, 114, 110, 107, 76, 74, 84, 93, 152, 87, 147, 98, 64, 76, 100, 104, 91, 146, 105, 78, 125, 101, 89, 86, 94, 81, 47, 47, 53, 39, 27, 30, 32, 25, 27, 27, 22, 22, 18, 8, 13, 9, 11, 8, 6, 10, 10, 10, 14, 9, 4, 9, 6, 13, 8, 3, 2, 4, 12, 18, 34, 35, 27, 26, 56, 19, 13, 15, 13, 32, 12, 20, 23, 25, 16, 19, 40, 79, 58, 39, 27, 35, 38, 49, 39, 39, 51, 57, 37, 38, 50, 45, 56, 48, 34, 37, 34, 43, 59, 49, 67, 48, 17, 46, 51, 28, 39, 51, 62, 42, 42, 51, 54, 61, 63, 61, 48, 44, 62, 50, 45, 35, 44, 62, 33, 39, 61, 60, 39, 34, 26, 45, 63, 59, 41, 113, 58, 25, 28, 48, 18, 36, 31, 30, 23, 34, 33, 43, 20, 43, 36, 28, 34, 54, 56, 103, 166, 279, 197, 246, 297, 288, 324, 332, 396, 266, 280, 320, 441, 371, 323, 299, 248, 235, 267, 195, 198, 168, 167, 119, 136, 156, 155, 176, 136, 121, 109, 106, 113, 153, 126, 110, 82, 70, 61, 110, 125, 114, 61, 95, 50, 38, 113, 77, 63, 75, 64, 73, 75, 114, 69, 54, 72, 58, 98, 91, 84, 110, 47, 73, 91, 76, 58, 89, 121, 155, 77, 61, 119, 88, 103, 125, 113, 127, 124, 97, 75, 117, 125, 145, 89, 143, 126, 100, 145, 143, 191, 205, 208, 222, 230, 285, 325, 348, 386, 330, 271, 349, 382, 581, 555, 503, 450, 438, 451, 511, 540, 628, 577, 631, 615, 587, 670, 680, 689, 950, 1030, 718, 880, 1078, 1014, 1064, 1045, 1096, 924, 866, 1090, 985, 1240, 1131, 970, 806, 1044, 1050, 967, 1027, 820, 657, 1020, 714, 838, 869, 674, 641, 657, 451, 537, 561, 524, 512, 580, 520, 389, 386, 404, 400, 346, 431, 392, 437, 349, 559, 497, 469, 456, 354, 305, 336, 467, 451, 370, 390, 371, 288, 303, 444, 504, 403, 362, 326, 343, 457, 621, 621, 561, 448, 416, 332, 356, 440, 395, 387, 415, 355, 355, 344, 444, 424, 398, 418, 416, 346, 446, 470, 465, 488, 490, 459, 379, 363, 469, 445, 463, 447, 456, 415, 346, 428, 430, 489, 505, 482, 382, 447, 506, 551, 557, 543, 543, 473, 477, 668, 700, 671, 677, 614, 587, 542, 731, 698, 673, 658, 671, 532, 549, 731, 735, 797, 785, 644, 499, 512, 769, 679, 661, 627, 606, 488, 541, 676, 574, 525, 701, 564, 463, 510, 634, 715, 747, 681, 610, 619, 528, 654, 646, 561, 666, 585, 530, 516, 705, 629, 587, 533, 910, -430, 889, 677, 681, 695, 744, 556, 485, 454, 602, 610, 556, 565, 452, 399, 373, 545, 540, 507, 482, 429, 357, 394, 645, 610, 634, 668, 614, 501, 595, 794, 761, 825, 794, 743, 711, 746, 1211, 1275, 1316, 1378, 1324, 1100, 1150, 1613, 1599, 1535, 1449, 1453, 1251, 1278, 1781, 1841, 1629, 1627, 1487, 1318, 1363, 1895, 1673, 1710, 1538, 1442, 1218, 1200, 1725, 1775, 1704, 1823, 1727, 1491, 1537, 2221, 1987, 1989, 1928, 1816, 1554, 1372, 1803, 2152, 2140, 1787, 1626, 1417, 1507, 2154, 1882, 1837, 1791, 1619, 1485, 1370, 2024, 1960, 1708, 1803, 1490, 1375, 1597, 2047, 2049, 1893, 1864, 1755, 1433, 1508, 2065, 1942, 2008, 2087, 1909, 1604, 1729, 1720, 1715, 2429, 3270, 2768, 2381, 2288, 2881, 2561, 2484, 2247, 2085, 1670, 1574, 2027, 2425, 2171, 1953, 1594, 1297, 1346, 1583, 1939, 1683, 1617, 1420, 1050, 1073, 1571, 1441, 1438, 1508, 1421, 1190, 1272, 1945, 2111, 2121, 2104, 2061, 1685, 1588, 2667, 2482, 2343, 2246, 2225, 1754, 1717, 2425, 2518, 2368, 2324, 2418, 2004, 2122, 3189, 3292, 3033, 3205, 3120, 2827, 2697, 4113, 3937, 3896, 4067, 3925, 3307, 3031, 5122, 5263, 4944, 5352, 5125, 4324, 4953, 7173, 7375, 6748, 6977, 6681, 5816, 5567, 7849, 7619, 7434, 7310, 6233, 5316, 5192, 7452, 6914, 6233, 5840, 5413, 4203, 3864, 5407, 5034, 4873, 4415, 3831, 3125, 3021, 4441, 4122, 3713, 3507, 3371, 3005, 3092, 4383, 4164, 4538, 4419, 4189, 3854, 4062, 5803, 6600, 6766, 7004, 7626, 7511, 8570, 13009, 14514, 16093, 17513, 17522, 17077, 18338, 20268, 22906, 27438, 36345, 38689, 35283, 36717, 49567, 54122, 53903, 54935, 56428, 54617, 57164, 90435, 93132, 109823, 102210, 104814, 95339, 99569, 171442, 170015, 165887, 166182, 163561, 139624, 138990, 219228, 198800, 266850, 254327, 243625, 210709, 202702, 342429, 327538, 282973, 383617, 350182, 309779, 362283, 400593, 621204, 406839, 381413, 334653, 209139, 353828, 490771, 395526, 339451, 335541, 318075, 187182, 347500, 424466, 320683, 280231, 264120, 234265, 127163, 266085, 286247, 224784, 205299, 185525, 164456, 90917, 210715, 195382, 148409, 125800, 107882, 92978, 47730, 118462, 111289, 90843, 81033, 75423, 64704, 34361, 80267, 76764, 57446, 50556, 43244, 37760, 20076, 51106, 49046, 42279, 26678, 39563, 40048, 20588, 49896, 43881, 35882, 32435, 29572, 25425, 13290, 35085, 31333, 28109, 25113, 23450, 19289, 9971, 26331, 23936, 18805, 16572, 14374, 12647, 6135, 17185, 15768, 9891, 12539, 12039, 9834, 5022, 6172, 13358]\n"
     ]
    }
   ],
   "source": [
    "# 일일확진자 = 오늘의 총확진자 - 전날의 총확진자\n",
    "# 데이터프레임의 길이 - 1 만큼 반복 \n",
    "\n",
    "# 새로운 리스트 생성\n",
    "data_list = [0]\n",
    "for i in range(0, len(df)-1, 1):\n",
    "    data = df.loc[i+1, '총확진자'] - df.loc[i, '총확진자']\n",
    "    data_list.append(data)\n",
    "print(data_list)"
   ]
  },
  {
   "cell_type": "code",
   "execution_count": 63,
   "metadata": {},
   "outputs": [],
   "source": [
    "df['일일확진자'] = data_list"
   ]
  },
  {
   "cell_type": "code",
   "execution_count": 64,
   "metadata": {},
   "outputs": [
    {
     "data": {
      "text/html": [
       "<div>\n",
       "<style scoped>\n",
       "    .dataframe tbody tr th:only-of-type {\n",
       "        vertical-align: middle;\n",
       "    }\n",
       "\n",
       "    .dataframe tbody tr th {\n",
       "        vertical-align: top;\n",
       "    }\n",
       "\n",
       "    .dataframe thead th {\n",
       "        text-align: right;\n",
       "    }\n",
       "</style>\n",
       "<table border=\"1\" class=\"dataframe\">\n",
       "  <thead>\n",
       "    <tr style=\"text-align: right;\">\n",
       "      <th></th>\n",
       "      <th>등록일시</th>\n",
       "      <th>총사망자</th>\n",
       "      <th>총확진자</th>\n",
       "      <th>기준일</th>\n",
       "      <th>기준시간</th>\n",
       "      <th>수정일시</th>\n",
       "      <th>누적의심자</th>\n",
       "      <th>누적확진율</th>\n",
       "      <th>일일확진자</th>\n",
       "    </tr>\n",
       "  </thead>\n",
       "  <tbody>\n",
       "    <tr>\n",
       "      <th>0</th>\n",
       "      <td>2020-03-10 00:00:00.000</td>\n",
       "      <td>54</td>\n",
       "      <td>7513</td>\n",
       "      <td>20200310</td>\n",
       "      <td>00:00</td>\n",
       "      <td>2021-10-07 10:30:51.51</td>\n",
       "      <td>210144.0</td>\n",
       "      <td>3.919308</td>\n",
       "      <td>0</td>\n",
       "    </tr>\n",
       "    <tr>\n",
       "      <th>1</th>\n",
       "      <td>2020-03-11 00:00:00.000</td>\n",
       "      <td>60</td>\n",
       "      <td>7755</td>\n",
       "      <td>20200311</td>\n",
       "      <td>00:00</td>\n",
       "      <td>2021-10-07 10:30:51.51</td>\n",
       "      <td>222395.0</td>\n",
       "      <td>3.804175</td>\n",
       "      <td>242</td>\n",
       "    </tr>\n",
       "    <tr>\n",
       "      <th>2</th>\n",
       "      <td>2020-03-12 00:00:00.000</td>\n",
       "      <td>66</td>\n",
       "      <td>7869</td>\n",
       "      <td>20200312</td>\n",
       "      <td>00:00</td>\n",
       "      <td>2021-10-07 10:30:51.51</td>\n",
       "      <td>234998.0</td>\n",
       "      <td>3.621744</td>\n",
       "      <td>114</td>\n",
       "    </tr>\n",
       "    <tr>\n",
       "      <th>3</th>\n",
       "      <td>2020-03-13 00:00:00.000</td>\n",
       "      <td>67</td>\n",
       "      <td>7979</td>\n",
       "      <td>20200313</td>\n",
       "      <td>00:00</td>\n",
       "      <td>2021-10-07 10:30:51.51</td>\n",
       "      <td>248647.0</td>\n",
       "      <td>3.458499</td>\n",
       "      <td>110</td>\n",
       "    </tr>\n",
       "    <tr>\n",
       "      <th>4</th>\n",
       "      <td>2020-03-14 00:00:00.000</td>\n",
       "      <td>72</td>\n",
       "      <td>8086</td>\n",
       "      <td>20200314</td>\n",
       "      <td>00:00</td>\n",
       "      <td>2021-10-07 10:30:51.51</td>\n",
       "      <td>261335.0</td>\n",
       "      <td>3.318000</td>\n",
       "      <td>107</td>\n",
       "    </tr>\n",
       "  </tbody>\n",
       "</table>\n",
       "</div>"
      ],
      "text/plain": [
       "                      등록일시  총사망자  총확진자       기준일   기준시간  \\\n",
       "0  2020-03-10 00:00:00.000    54  7513  20200310  00:00   \n",
       "1  2020-03-11 00:00:00.000    60  7755  20200311  00:00   \n",
       "2  2020-03-12 00:00:00.000    66  7869  20200312  00:00   \n",
       "3  2020-03-13 00:00:00.000    67  7979  20200313  00:00   \n",
       "4  2020-03-14 00:00:00.000    72  8086  20200314  00:00   \n",
       "\n",
       "                     수정일시     누적의심자     누적확진율  일일확진자  \n",
       "0  2021-10-07 10:30:51.51  210144.0  3.919308      0  \n",
       "1  2021-10-07 10:30:51.51  222395.0  3.804175    242  \n",
       "2  2021-10-07 10:30:51.51  234998.0  3.621744    114  \n",
       "3  2021-10-07 10:30:51.51  248647.0  3.458499    110  \n",
       "4  2021-10-07 10:30:51.51  261335.0  3.318000    107  "
      ]
     },
     "execution_count": 64,
     "metadata": {},
     "output_type": "execute_result"
    }
   ],
   "source": [
    "df.head()"
   ]
  },
  {
   "cell_type": "code",
   "execution_count": 70,
   "metadata": {},
   "outputs": [],
   "source": [
    "# shift(n) : n만큼 인덱스가 이동한 데이터를 생성\n",
    "df['일일확진자2'] = (df['총확진자'] - df['총확진자'].shift(1)).fillna(0)"
   ]
  },
  {
   "cell_type": "code",
   "execution_count": null,
   "metadata": {},
   "outputs": [],
   "source": [
    "df.head(5)"
   ]
  },
  {
   "cell_type": "code",
   "execution_count": 74,
   "metadata": {},
   "outputs": [],
   "source": [
    "# diff(n) : 현재 위치에서 n만큼 인덱스를 이동한 데이터와의 차이를 출력\n",
    "df['일일확진자3'] = df['총확진자'].diff().fillna(0)"
   ]
  },
  {
   "cell_type": "code",
   "execution_count": 75,
   "metadata": {},
   "outputs": [
    {
     "data": {
      "text/html": [
       "<div>\n",
       "<style scoped>\n",
       "    .dataframe tbody tr th:only-of-type {\n",
       "        vertical-align: middle;\n",
       "    }\n",
       "\n",
       "    .dataframe tbody tr th {\n",
       "        vertical-align: top;\n",
       "    }\n",
       "\n",
       "    .dataframe thead th {\n",
       "        text-align: right;\n",
       "    }\n",
       "</style>\n",
       "<table border=\"1\" class=\"dataframe\">\n",
       "  <thead>\n",
       "    <tr style=\"text-align: right;\">\n",
       "      <th></th>\n",
       "      <th>등록일시</th>\n",
       "      <th>총사망자</th>\n",
       "      <th>총확진자</th>\n",
       "      <th>기준일</th>\n",
       "      <th>기준시간</th>\n",
       "      <th>수정일시</th>\n",
       "      <th>누적의심자</th>\n",
       "      <th>누적확진율</th>\n",
       "      <th>일일확진자</th>\n",
       "      <th>일일확진자2</th>\n",
       "      <th>일일확진자3</th>\n",
       "    </tr>\n",
       "  </thead>\n",
       "  <tbody>\n",
       "    <tr>\n",
       "      <th>0</th>\n",
       "      <td>2020-03-10 00:00:00.000</td>\n",
       "      <td>54</td>\n",
       "      <td>7513</td>\n",
       "      <td>20200310</td>\n",
       "      <td>00:00</td>\n",
       "      <td>2021-10-07 10:30:51.51</td>\n",
       "      <td>210144.0</td>\n",
       "      <td>3.919308</td>\n",
       "      <td>0</td>\n",
       "      <td>0.0</td>\n",
       "      <td>0.0</td>\n",
       "    </tr>\n",
       "    <tr>\n",
       "      <th>1</th>\n",
       "      <td>2020-03-11 00:00:00.000</td>\n",
       "      <td>60</td>\n",
       "      <td>7755</td>\n",
       "      <td>20200311</td>\n",
       "      <td>00:00</td>\n",
       "      <td>2021-10-07 10:30:51.51</td>\n",
       "      <td>222395.0</td>\n",
       "      <td>3.804175</td>\n",
       "      <td>242</td>\n",
       "      <td>242.0</td>\n",
       "      <td>242.0</td>\n",
       "    </tr>\n",
       "    <tr>\n",
       "      <th>2</th>\n",
       "      <td>2020-03-12 00:00:00.000</td>\n",
       "      <td>66</td>\n",
       "      <td>7869</td>\n",
       "      <td>20200312</td>\n",
       "      <td>00:00</td>\n",
       "      <td>2021-10-07 10:30:51.51</td>\n",
       "      <td>234998.0</td>\n",
       "      <td>3.621744</td>\n",
       "      <td>114</td>\n",
       "      <td>114.0</td>\n",
       "      <td>114.0</td>\n",
       "    </tr>\n",
       "    <tr>\n",
       "      <th>3</th>\n",
       "      <td>2020-03-13 00:00:00.000</td>\n",
       "      <td>67</td>\n",
       "      <td>7979</td>\n",
       "      <td>20200313</td>\n",
       "      <td>00:00</td>\n",
       "      <td>2021-10-07 10:30:51.51</td>\n",
       "      <td>248647.0</td>\n",
       "      <td>3.458499</td>\n",
       "      <td>110</td>\n",
       "      <td>110.0</td>\n",
       "      <td>110.0</td>\n",
       "    </tr>\n",
       "    <tr>\n",
       "      <th>4</th>\n",
       "      <td>2020-03-14 00:00:00.000</td>\n",
       "      <td>72</td>\n",
       "      <td>8086</td>\n",
       "      <td>20200314</td>\n",
       "      <td>00:00</td>\n",
       "      <td>2021-10-07 10:30:51.51</td>\n",
       "      <td>261335.0</td>\n",
       "      <td>3.318000</td>\n",
       "      <td>107</td>\n",
       "      <td>107.0</td>\n",
       "      <td>107.0</td>\n",
       "    </tr>\n",
       "  </tbody>\n",
       "</table>\n",
       "</div>"
      ],
      "text/plain": [
       "                      등록일시  총사망자  총확진자       기준일   기준시간  \\\n",
       "0  2020-03-10 00:00:00.000    54  7513  20200310  00:00   \n",
       "1  2020-03-11 00:00:00.000    60  7755  20200311  00:00   \n",
       "2  2020-03-12 00:00:00.000    66  7869  20200312  00:00   \n",
       "3  2020-03-13 00:00:00.000    67  7979  20200313  00:00   \n",
       "4  2020-03-14 00:00:00.000    72  8086  20200314  00:00   \n",
       "\n",
       "                     수정일시     누적의심자     누적확진율  일일확진자  일일확진자2  일일확진자3  \n",
       "0  2021-10-07 10:30:51.51  210144.0  3.919308      0     0.0     0.0  \n",
       "1  2021-10-07 10:30:51.51  222395.0  3.804175    242   242.0   242.0  \n",
       "2  2021-10-07 10:30:51.51  234998.0  3.621744    114   114.0   114.0  \n",
       "3  2021-10-07 10:30:51.51  248647.0  3.458499    110   110.0   110.0  \n",
       "4  2021-10-07 10:30:51.51  261335.0  3.318000    107   107.0   107.0  "
      ]
     },
     "execution_count": 75,
     "metadata": {},
     "output_type": "execute_result"
    }
   ],
   "source": [
    "df.head()"
   ]
  },
  {
   "cell_type": "code",
   "execution_count": 76,
   "metadata": {},
   "outputs": [
    {
     "name": "stdout",
     "output_type": "stream",
     "text": [
      "446\n",
      "반복문 종료\n"
     ]
    }
   ],
   "source": [
    "# 일일확진자가 음수인 데이터가 존재하는가?\n",
    "# 반복문 + 조건문 \n",
    "# 필터링 인덱스값에 일일확진자 조건 -> 반복실행 음수인 데이터만 출력\n",
    "for i in range(0, len(df), 1):\n",
    "    if( df.loc[i, '일일확진자'] < 0 ):\n",
    "        print(i)\n",
    "\n",
    "print('반복문 종료')"
   ]
  },
  {
   "cell_type": "code",
   "execution_count": 78,
   "metadata": {},
   "outputs": [
    {
     "data": {
      "text/html": [
       "<div>\n",
       "<style scoped>\n",
       "    .dataframe tbody tr th:only-of-type {\n",
       "        vertical-align: middle;\n",
       "    }\n",
       "\n",
       "    .dataframe tbody tr th {\n",
       "        vertical-align: top;\n",
       "    }\n",
       "\n",
       "    .dataframe thead th {\n",
       "        text-align: right;\n",
       "    }\n",
       "</style>\n",
       "<table border=\"1\" class=\"dataframe\">\n",
       "  <thead>\n",
       "    <tr style=\"text-align: right;\">\n",
       "      <th></th>\n",
       "      <th>등록일시</th>\n",
       "      <th>총사망자</th>\n",
       "      <th>총확진자</th>\n",
       "      <th>기준일</th>\n",
       "      <th>기준시간</th>\n",
       "      <th>수정일시</th>\n",
       "      <th>누적의심자</th>\n",
       "      <th>누적확진율</th>\n",
       "      <th>일일확진자</th>\n",
       "      <th>일일확진자2</th>\n",
       "      <th>일일확진자3</th>\n",
       "    </tr>\n",
       "  </thead>\n",
       "  <tbody>\n",
       "    <tr>\n",
       "      <th>446</th>\n",
       "      <td>2021-05-30 00:00:00.000</td>\n",
       "      <td>1957</td>\n",
       "      <td>139907</td>\n",
       "      <td>20210530</td>\n",
       "      <td>00:00</td>\n",
       "      <td>2021-10-07 10:30:51.51</td>\n",
       "      <td>9747612.0</td>\n",
       "      <td>1.454166</td>\n",
       "      <td>-430</td>\n",
       "      <td>-430.0</td>\n",
       "      <td>-430.0</td>\n",
       "    </tr>\n",
       "  </tbody>\n",
       "</table>\n",
       "</div>"
      ],
      "text/plain": [
       "                        등록일시  총사망자    총확진자       기준일   기준시간  \\\n",
       "446  2021-05-30 00:00:00.000  1957  139907  20210530  00:00   \n",
       "\n",
       "                       수정일시      누적의심자     누적확진율  일일확진자  일일확진자2  일일확진자3  \n",
       "446  2021-10-07 10:30:51.51  9747612.0  1.454166   -430  -430.0  -430.0  "
      ]
     },
     "execution_count": 78,
     "metadata": {},
     "output_type": "execute_result"
    }
   ],
   "source": [
    "df.loc[ df['일일확진자'] < 0 ]"
   ]
  },
  {
   "cell_type": "code",
   "execution_count": 79,
   "metadata": {},
   "outputs": [
    {
     "data": {
      "text/html": [
       "<div>\n",
       "<style scoped>\n",
       "    .dataframe tbody tr th:only-of-type {\n",
       "        vertical-align: middle;\n",
       "    }\n",
       "\n",
       "    .dataframe tbody tr th {\n",
       "        vertical-align: top;\n",
       "    }\n",
       "\n",
       "    .dataframe thead th {\n",
       "        text-align: right;\n",
       "    }\n",
       "</style>\n",
       "<table border=\"1\" class=\"dataframe\">\n",
       "  <thead>\n",
       "    <tr style=\"text-align: right;\">\n",
       "      <th></th>\n",
       "      <th>등록일시</th>\n",
       "      <th>총사망자</th>\n",
       "      <th>총확진자</th>\n",
       "      <th>기준일</th>\n",
       "      <th>기준시간</th>\n",
       "      <th>수정일시</th>\n",
       "      <th>누적의심자</th>\n",
       "      <th>누적확진율</th>\n",
       "      <th>일일확진자</th>\n",
       "      <th>일일확진자2</th>\n",
       "      <th>일일확진자3</th>\n",
       "    </tr>\n",
       "  </thead>\n",
       "  <tbody>\n",
       "    <tr>\n",
       "      <th>444</th>\n",
       "      <td>2021-05-29 00:00:00.000</td>\n",
       "      <td>1951</td>\n",
       "      <td>139427</td>\n",
       "      <td>20210529</td>\n",
       "      <td>00:00</td>\n",
       "      <td>2021-10-07 10:30:51.51</td>\n",
       "      <td>9733588.0</td>\n",
       "      <td>1.450884</td>\n",
       "      <td>533</td>\n",
       "      <td>533.0</td>\n",
       "      <td>533.0</td>\n",
       "    </tr>\n",
       "    <tr>\n",
       "      <th>445</th>\n",
       "      <td>2021-05-30 00:00:00.0</td>\n",
       "      <td>1959</td>\n",
       "      <td>140337</td>\n",
       "      <td>20210531</td>\n",
       "      <td>00:00</td>\n",
       "      <td>2021-10-14 13:48:56.821</td>\n",
       "      <td>9761156.0</td>\n",
       "      <td>1.456805</td>\n",
       "      <td>910</td>\n",
       "      <td>910.0</td>\n",
       "      <td>910.0</td>\n",
       "    </tr>\n",
       "    <tr>\n",
       "      <th>446</th>\n",
       "      <td>2021-05-30 00:00:00.000</td>\n",
       "      <td>1957</td>\n",
       "      <td>139907</td>\n",
       "      <td>20210530</td>\n",
       "      <td>00:00</td>\n",
       "      <td>2021-10-07 10:30:51.51</td>\n",
       "      <td>9747612.0</td>\n",
       "      <td>1.454166</td>\n",
       "      <td>-430</td>\n",
       "      <td>-430.0</td>\n",
       "      <td>-430.0</td>\n",
       "    </tr>\n",
       "    <tr>\n",
       "      <th>447</th>\n",
       "      <td>2021-06-01 00:00:00.000</td>\n",
       "      <td>1963</td>\n",
       "      <td>140796</td>\n",
       "      <td>20210601</td>\n",
       "      <td>00:00</td>\n",
       "      <td>2021-10-07 10:30:51.51</td>\n",
       "      <td>9798400.0</td>\n",
       "      <td>1.455890</td>\n",
       "      <td>889</td>\n",
       "      <td>889.0</td>\n",
       "      <td>889.0</td>\n",
       "    </tr>\n",
       "    <tr>\n",
       "      <th>448</th>\n",
       "      <td>2021-06-02 00:00:00.000</td>\n",
       "      <td>1965</td>\n",
       "      <td>141473</td>\n",
       "      <td>20210602</td>\n",
       "      <td>00:00</td>\n",
       "      <td>2021-10-07 10:30:51.51</td>\n",
       "      <td>9834348.0</td>\n",
       "      <td>1.457668</td>\n",
       "      <td>677</td>\n",
       "      <td>677.0</td>\n",
       "      <td>677.0</td>\n",
       "    </tr>\n",
       "  </tbody>\n",
       "</table>\n",
       "</div>"
      ],
      "text/plain": [
       "                        등록일시  총사망자    총확진자       기준일   기준시간  \\\n",
       "444  2021-05-29 00:00:00.000  1951  139427  20210529  00:00   \n",
       "445    2021-05-30 00:00:00.0  1959  140337  20210531  00:00   \n",
       "446  2021-05-30 00:00:00.000  1957  139907  20210530  00:00   \n",
       "447  2021-06-01 00:00:00.000  1963  140796  20210601  00:00   \n",
       "448  2021-06-02 00:00:00.000  1965  141473  20210602  00:00   \n",
       "\n",
       "                        수정일시      누적의심자     누적확진율  일일확진자  일일확진자2  일일확진자3  \n",
       "444   2021-10-07 10:30:51.51  9733588.0  1.450884    533   533.0   533.0  \n",
       "445  2021-10-14 13:48:56.821  9761156.0  1.456805    910   910.0   910.0  \n",
       "446   2021-10-07 10:30:51.51  9747612.0  1.454166   -430  -430.0  -430.0  \n",
       "447   2021-10-07 10:30:51.51  9798400.0  1.455890    889   889.0   889.0  \n",
       "448   2021-10-07 10:30:51.51  9834348.0  1.457668    677   677.0   677.0  "
      ]
     },
     "execution_count": 79,
     "metadata": {},
     "output_type": "execute_result"
    }
   ],
   "source": [
    "df.loc[444:448]"
   ]
  },
  {
   "cell_type": "code",
   "execution_count": 81,
   "metadata": {},
   "outputs": [],
   "source": [
    "df.loc[445, '등록일시'] = '2021-05-31 00:00:00.000'"
   ]
  },
  {
   "cell_type": "code",
   "execution_count": 82,
   "metadata": {},
   "outputs": [
    {
     "data": {
      "text/html": [
       "<div>\n",
       "<style scoped>\n",
       "    .dataframe tbody tr th:only-of-type {\n",
       "        vertical-align: middle;\n",
       "    }\n",
       "\n",
       "    .dataframe tbody tr th {\n",
       "        vertical-align: top;\n",
       "    }\n",
       "\n",
       "    .dataframe thead th {\n",
       "        text-align: right;\n",
       "    }\n",
       "</style>\n",
       "<table border=\"1\" class=\"dataframe\">\n",
       "  <thead>\n",
       "    <tr style=\"text-align: right;\">\n",
       "      <th></th>\n",
       "      <th>등록일시</th>\n",
       "      <th>총사망자</th>\n",
       "      <th>총확진자</th>\n",
       "      <th>기준일</th>\n",
       "      <th>기준시간</th>\n",
       "      <th>수정일시</th>\n",
       "      <th>누적의심자</th>\n",
       "      <th>누적확진율</th>\n",
       "      <th>일일확진자</th>\n",
       "      <th>일일확진자2</th>\n",
       "      <th>일일확진자3</th>\n",
       "    </tr>\n",
       "  </thead>\n",
       "  <tbody>\n",
       "    <tr>\n",
       "      <th>444</th>\n",
       "      <td>2021-05-29 00:00:00.000</td>\n",
       "      <td>1951</td>\n",
       "      <td>139427</td>\n",
       "      <td>20210529</td>\n",
       "      <td>00:00</td>\n",
       "      <td>2021-10-07 10:30:51.51</td>\n",
       "      <td>9733588.0</td>\n",
       "      <td>1.450884</td>\n",
       "      <td>533</td>\n",
       "      <td>533.0</td>\n",
       "      <td>533.0</td>\n",
       "    </tr>\n",
       "    <tr>\n",
       "      <th>445</th>\n",
       "      <td>2021-05-31 00:00:00.000</td>\n",
       "      <td>1959</td>\n",
       "      <td>140337</td>\n",
       "      <td>20210531</td>\n",
       "      <td>00:00</td>\n",
       "      <td>2021-10-14 13:48:56.821</td>\n",
       "      <td>9761156.0</td>\n",
       "      <td>1.456805</td>\n",
       "      <td>910</td>\n",
       "      <td>910.0</td>\n",
       "      <td>910.0</td>\n",
       "    </tr>\n",
       "    <tr>\n",
       "      <th>446</th>\n",
       "      <td>2021-05-30 00:00:00.000</td>\n",
       "      <td>1957</td>\n",
       "      <td>139907</td>\n",
       "      <td>20210530</td>\n",
       "      <td>00:00</td>\n",
       "      <td>2021-10-07 10:30:51.51</td>\n",
       "      <td>9747612.0</td>\n",
       "      <td>1.454166</td>\n",
       "      <td>-430</td>\n",
       "      <td>-430.0</td>\n",
       "      <td>-430.0</td>\n",
       "    </tr>\n",
       "    <tr>\n",
       "      <th>447</th>\n",
       "      <td>2021-06-01 00:00:00.000</td>\n",
       "      <td>1963</td>\n",
       "      <td>140796</td>\n",
       "      <td>20210601</td>\n",
       "      <td>00:00</td>\n",
       "      <td>2021-10-07 10:30:51.51</td>\n",
       "      <td>9798400.0</td>\n",
       "      <td>1.455890</td>\n",
       "      <td>889</td>\n",
       "      <td>889.0</td>\n",
       "      <td>889.0</td>\n",
       "    </tr>\n",
       "    <tr>\n",
       "      <th>448</th>\n",
       "      <td>2021-06-02 00:00:00.000</td>\n",
       "      <td>1965</td>\n",
       "      <td>141473</td>\n",
       "      <td>20210602</td>\n",
       "      <td>00:00</td>\n",
       "      <td>2021-10-07 10:30:51.51</td>\n",
       "      <td>9834348.0</td>\n",
       "      <td>1.457668</td>\n",
       "      <td>677</td>\n",
       "      <td>677.0</td>\n",
       "      <td>677.0</td>\n",
       "    </tr>\n",
       "  </tbody>\n",
       "</table>\n",
       "</div>"
      ],
      "text/plain": [
       "                        등록일시  총사망자    총확진자       기준일   기준시간  \\\n",
       "444  2021-05-29 00:00:00.000  1951  139427  20210529  00:00   \n",
       "445  2021-05-31 00:00:00.000  1959  140337  20210531  00:00   \n",
       "446  2021-05-30 00:00:00.000  1957  139907  20210530  00:00   \n",
       "447  2021-06-01 00:00:00.000  1963  140796  20210601  00:00   \n",
       "448  2021-06-02 00:00:00.000  1965  141473  20210602  00:00   \n",
       "\n",
       "                        수정일시      누적의심자     누적확진율  일일확진자  일일확진자2  일일확진자3  \n",
       "444   2021-10-07 10:30:51.51  9733588.0  1.450884    533   533.0   533.0  \n",
       "445  2021-10-14 13:48:56.821  9761156.0  1.456805    910   910.0   910.0  \n",
       "446   2021-10-07 10:30:51.51  9747612.0  1.454166   -430  -430.0  -430.0  \n",
       "447   2021-10-07 10:30:51.51  9798400.0  1.455890    889   889.0   889.0  \n",
       "448   2021-10-07 10:30:51.51  9834348.0  1.457668    677   677.0   677.0  "
      ]
     },
     "execution_count": 82,
     "metadata": {},
     "output_type": "execute_result"
    }
   ],
   "source": [
    "df.loc[444:448]"
   ]
  },
  {
   "cell_type": "code",
   "execution_count": null,
   "metadata": {},
   "outputs": [],
   "source": [
    "## 일일확진자 잘못되었다. \n",
    "# 등록일시를 기준으로 오름차순 정렬\n",
    "\n",
    "# 인덱스를 초기화(기존의 인덱스를 제거)\n",
    "\n",
    "# ['일일확진자', '일일확진자2', '일일확진자3'] 모두 제거 \n",
    "\n",
    "# 일일확진자, 일일사망자 파생변수를 생성하여 전날의 데이터와 오늘의 데이터의 차이로 데이터를 채워준다. \n",
    "\n",
    "# 일일확진자, 일일사망자의 결측치는 0으로 대체"
   ]
  }
 ],
 "metadata": {
  "kernelspec": {
   "display_name": "Python 3",
   "language": "python",
   "name": "python3"
  },
  "language_info": {
   "codemirror_mode": {
    "name": "ipython",
    "version": 3
   },
   "file_extension": ".py",
   "mimetype": "text/x-python",
   "name": "python",
   "nbconvert_exporter": "python",
   "pygments_lexer": "ipython3",
   "version": "3.11.4"
  }
 },
 "nbformat": 4,
 "nbformat_minor": 2
}
