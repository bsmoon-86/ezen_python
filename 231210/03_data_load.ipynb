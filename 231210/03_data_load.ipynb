{
 "cells": [
  {
   "cell_type": "code",
   "execution_count": null,
   "metadata": {},
   "outputs": [],
   "source": [
    "import pandas as pd"
   ]
  },
  {
   "cell_type": "markdown",
   "metadata": {},
   "source": [
    "### csv 폴더 안에 있는 모든 파일을 하나의 데이터프레임으로 결합\n",
    "1. 일반적인 방법 -> 12번 파일을 로드 -> concat()이용하여 행 결합\n",
    "2. 반복문을 이용?"
   ]
  },
  {
   "cell_type": "code",
   "execution_count": null,
   "metadata": {},
   "outputs": [],
   "source": [
    "df01 = pd.read_csv('../csv/2017/201701_expense_list.csv')\n",
    "df01.head()"
   ]
  },
  {
   "cell_type": "code",
   "execution_count": null,
   "metadata": {},
   "outputs": [],
   "source": [
    "import os"
   ]
  },
  {
   "cell_type": "code",
   "execution_count": null,
   "metadata": {},
   "outputs": [],
   "source": [
    "os.listdir(\"../csv/2017/\")"
   ]
  },
  {
   "cell_type": "code",
   "execution_count": null,
   "metadata": {},
   "outputs": [],
   "source": [
    "# 파일의 경로 + 파일의 이름 -> read_csv()\n",
    "\n",
    "_path = \"../csv/2017/\"\n",
    "\n",
    "file_list = os.listdir(_path)\n",
    "\n",
    "file_list"
   ]
  },
  {
   "cell_type": "code",
   "execution_count": null,
   "metadata": {},
   "outputs": [],
   "source": [
    "df_2017 = pd.DataFrame()\n",
    "\n",
    "for file in file_list:\n",
    "    # print(_path + file)\n",
    "    df = pd.read_csv(_path + file)\n",
    "    df_2017 = pd.concat([df_2017, df], axis=0, ignore_index=True)\n",
    "\n",
    "df_2017.info()"
   ]
  },
  {
   "cell_type": "code",
   "execution_count": null,
   "metadata": {},
   "outputs": [],
   "source": [
    "_path = \"../csv/2018/\"\n",
    "\n",
    "file_list = os.listdir(_path)\n",
    "\n",
    "file_list"
   ]
  },
  {
   "cell_type": "code",
   "execution_count": null,
   "metadata": {},
   "outputs": [],
   "source": [
    "df_2018 = pd.DataFrame()\n",
    "\n",
    "for file in file_list:\n",
    "    df = pd.read_csv(_path+file)\n",
    "    df_2018 = pd.concat([df_2018, df], axis=0, ignore_index=True)\n",
    "df_2018.info()"
   ]
  },
  {
   "cell_type": "code",
   "execution_count": null,
   "metadata": {},
   "outputs": [],
   "source": [
    "_path = \"../csv/2019/\"\n",
    "\n",
    "file_list = os.listdir(_path)\n",
    "\n",
    "df_2019 = pd.DataFrame()\n",
    "\n",
    "for file in file_list:\n",
    "    df = pd.read_json(_path+file)\n",
    "    df_2019 = pd.concat([df_2019, df], axis=0, ignore_index=True)\n",
    "df_2019.info()"
   ]
  },
  {
   "cell_type": "code",
   "execution_count": null,
   "metadata": {},
   "outputs": [],
   "source": [
    "# 문자열의 마지막 문자를 출력\n",
    "_path = \"../csv/2019/\"\n",
    "\n",
    "len(_path)\n",
    "\n",
    "_path[-1] != '/'"
   ]
  },
  {
   "cell_type": "code",
   "execution_count": null,
   "metadata": {},
   "outputs": [],
   "source": [
    "file = os.listdir(_path)[0]\n",
    "file.split('.')[-1] == 'csv'\n",
    "\n",
    "file.endswith('json')"
   ]
  },
  {
   "cell_type": "code",
   "execution_count": null,
   "metadata": {},
   "outputs": [],
   "source": [
    "## 특정 경로의 파일들을 하나로 결합하여 데이터프레임을 생성을 하는 함수 \n",
    "def data_load(_path, _end, _engine='utf-8'):\n",
    "    # _path : 파일들이 존재하는 경로 \n",
    "    # _end : 로드하려는 파일들의 확장자\n",
    "\n",
    "    # _path에 입력된 값이 '/' 마지막에 존재하는가?\n",
    "    if _path[-1] != '/':\n",
    "        _path = _path + '/'\n",
    "    # 입력받은 경로의 파일 목록을 로드 \n",
    "    file_list = os.listdir(_path)\n",
    "\n",
    "    # 비어있는 데이터프레임을 생성\n",
    "    result = pd.DataFrame()\n",
    "\n",
    "    # file_list를 기준으로 반복문을 실행\n",
    "    for file in file_list:\n",
    "        # if file.split('.')[-1] == _end:\n",
    "        if file.endswith(_end):\n",
    "            if _end == 'csv':\n",
    "                df = pd.read_csv(_path+file, encoding=_engine)\n",
    "            elif _end == 'json':\n",
    "                df = pd.read_json(_path+file, encoding=_engine)\n",
    "            elif _end == 'xml':\n",
    "                df = pd.read_xml(_path + file, encoding=_engine)\n",
    "            elif (_end == 'xlsx') | (_end == 'xls'):\n",
    "                df = pd.read_excel(_path + file)\n",
    "            else:\n",
    "                # return은 함수를 강제 종료하고 결과값을 되돌려준다. \n",
    "                return \"지원하지 않는 확장자입니다.\"\n",
    "            result = pd.concat([result, df], axis=0, ignore_index=True)\n",
    "    return result"
   ]
  },
  {
   "cell_type": "code",
   "execution_count": null,
   "metadata": {},
   "outputs": [],
   "source": [
    "data_load('../csv/2021/', 'xml')"
   ]
  },
  {
   "cell_type": "code",
   "execution_count": null,
   "metadata": {},
   "outputs": [],
   "source": [
    "# openpyxl 에러가 난다면 openpyxl를 설치 \n",
    "!pip install openpyxl"
   ]
  },
  {
   "cell_type": "code",
   "execution_count": null,
   "metadata": {},
   "outputs": [],
   "source": [
    "# 파일을 로드 할때 UnicodeDecodeError error가 발생한다면?\n",
    "pd.read_csv('../csv/주민등록.csv', encoding='cp949')"
   ]
  },
  {
   "cell_type": "code",
   "execution_count": null,
   "metadata": {},
   "outputs": [],
   "source": [
    "# 파일의 경로에 다른 데이터셋들을 각각 변수에 대입해야되는 경우"
   ]
  },
  {
   "cell_type": "code",
   "execution_count": null,
   "metadata": {},
   "outputs": [],
   "source": [
    "# 반복문을 이용해서 여러개의 변수명을 생성\n",
    "for i in range(1, 5, 1):\n",
    "    # print(i)\n",
    "    test = i"
   ]
  },
  {
   "cell_type": "code",
   "execution_count": null,
   "metadata": {},
   "outputs": [],
   "source": [
    "test"
   ]
  },
  {
   "cell_type": "code",
   "execution_count": null,
   "metadata": {},
   "outputs": [],
   "source": [
    "globals()"
   ]
  },
  {
   "cell_type": "code",
   "execution_count": null,
   "metadata": {},
   "outputs": [],
   "source": [
    "globals()['test2'] = 12345"
   ]
  },
  {
   "cell_type": "code",
   "execution_count": null,
   "metadata": {},
   "outputs": [],
   "source": [
    "globals()"
   ]
  },
  {
   "cell_type": "code",
   "execution_count": null,
   "metadata": {},
   "outputs": [],
   "source": [
    "test2"
   ]
  },
  {
   "cell_type": "code",
   "execution_count": null,
   "metadata": {},
   "outputs": [],
   "source": [
    "test3 = 11111"
   ]
  },
  {
   "cell_type": "code",
   "execution_count": null,
   "metadata": {},
   "outputs": [],
   "source": [
    "# 반복문을 이용하여 여러개의 전역 변수를 생성 \n",
    "for i in range(1, 5, 1):\n",
    "    globals()[f'variable{i}'] = i"
   ]
  },
  {
   "cell_type": "code",
   "execution_count": null,
   "metadata": {},
   "outputs": [],
   "source": [
    "variable1"
   ]
  },
  {
   "cell_type": "code",
   "execution_count": null,
   "metadata": {},
   "outputs": [],
   "source": [
    "variable2"
   ]
  },
  {
   "cell_type": "code",
   "execution_count": null,
   "metadata": {},
   "outputs": [],
   "source": [
    "# test_csv 경로를 변수에 저장\n",
    "_path = \"../test_csv/\"\n",
    "# 해당하는 경로의 파일 목록을 생성 \n",
    "file_list = os.listdir(_path)\n",
    "# 파일 목록을 기준으로 반복문 생성\n",
    "\n",
    "i = 1\n",
    "for file in file_list:\n",
    "    # print(file)\n",
    "    # 경로와 파일명을 기준으로하여 확장자가 csv인 경우\n",
    "    if file.endswith('csv'):\n",
    "        # 전역 변수에 read_csv(, encoding = 'euc-kr')이용하여 저장 (반복이 될때마다 다른 변수명을 생성)\n",
    "        globals()[f'df{i}'] = pd.read_csv(_path+file, encoding='euc-kr')\n",
    "        i += 1\n",
    "        print(file, i)\n",
    "\n",
    "\n"
   ]
  },
  {
   "cell_type": "code",
   "execution_count": null,
   "metadata": {},
   "outputs": [],
   "source": [
    "df1"
   ]
  },
  {
   "cell_type": "code",
   "execution_count": null,
   "metadata": {},
   "outputs": [],
   "source": [
    "df2"
   ]
  },
  {
   "cell_type": "code",
   "execution_count": null,
   "metadata": {},
   "outputs": [],
   "source": [
    "pd.read_csv('../test_csv/오프라인.csv', encoding='euc-kr')"
   ]
  },
  {
   "cell_type": "code",
   "execution_count": null,
   "metadata": {},
   "outputs": [],
   "source": [
    "# 파일의 목록 가지고오는 방법 2\n",
    "import glob"
   ]
  },
  {
   "cell_type": "code",
   "execution_count": 90,
   "metadata": {},
   "outputs": [],
   "source": [
    "files = glob.glob(\"..\\\\csv\\\\2021/*.csv\")"
   ]
  },
  {
   "cell_type": "code",
   "execution_count": 91,
   "metadata": {},
   "outputs": [
    {
     "name": "stdout",
     "output_type": "stream",
     "text": [
      "..\\csv\\2021\n",
      "202101_expense_list.csv\n",
      "..\\csv\\2021\n",
      "202102_expense_list.csv\n",
      "..\\csv\\2021\n",
      "202103_expense_list.csv\n",
      "..\\csv\\2021\n",
      "202104_expense_list.csv\n",
      "..\\csv\\2021\n",
      "202105_expense_list.csv\n",
      "..\\csv\\2021\n",
      "202106_expense_list.csv\n",
      "..\\csv\\2021\n",
      "202107_expense_list.csv\n",
      "..\\csv\\2021\n",
      "202108_expense_list.csv\n",
      "..\\csv\\2021\n",
      "202109_expense_list.csv\n",
      "..\\csv\\2021\n",
      "202110_expense_list.csv\n",
      "..\\csv\\2021\n",
      "202111_expense_list.csv\n",
      "..\\csv\\2021\n",
      "202112_expense_list.csv\n"
     ]
    }
   ],
   "source": [
    "for file in files:\n",
    "    # 전체 경로에서 경로와 파일을 나눠주는 작업\n",
    "    folder, name = os.path.split(file)\n",
    "    print(folder)\n",
    "    print(name)\n",
    "    # 파일명에서 파일의 이름과 확장자를 나눠주는 함수\n",
    "    # head, tail = os.path.splitext(name)\n",
    "    # # print(head)\n",
    "    # # print(tail)\n",
    "    # globals()[head] = pd.read_csv(file)"
   ]
  },
  {
   "cell_type": "code",
   "execution_count": null,
   "metadata": {},
   "outputs": [],
   "source": [
    "globals()"
   ]
  },
  {
   "cell_type": "code",
   "execution_count": null,
   "metadata": {},
   "outputs": [],
   "source": [
    "globals()['202101_expense_list']"
   ]
  },
  {
   "cell_type": "code",
   "execution_count": 87,
   "metadata": {},
   "outputs": [],
   "source": [
    "a, b = ['Hello', 'Hi']"
   ]
  },
  {
   "cell_type": "code",
   "execution_count": 88,
   "metadata": {},
   "outputs": [
    {
     "data": {
      "text/plain": [
       "'Hello'"
      ]
     },
     "execution_count": 88,
     "metadata": {},
     "output_type": "execute_result"
    }
   ],
   "source": [
    "a"
   ]
  },
  {
   "cell_type": "code",
   "execution_count": 89,
   "metadata": {},
   "outputs": [
    {
     "data": {
      "text/plain": [
       "'Hi'"
      ]
     },
     "execution_count": 89,
     "metadata": {},
     "output_type": "execute_result"
    }
   ],
   "source": [
    "b"
   ]
  },
  {
   "cell_type": "code",
   "execution_count": 92,
   "metadata": {},
   "outputs": [],
   "source": [
    "def test1(file):\n",
    "    # file 파일명 입력된다는 가정\n",
    "    files = file.split('.')\n",
    "    result1 = files[0]\n",
    "    result2 = files[1]\n",
    "    return result1, result2"
   ]
  },
  {
   "cell_type": "code",
   "execution_count": 97,
   "metadata": {},
   "outputs": [],
   "source": [
    "head = test1('a.txt')"
   ]
  },
  {
   "cell_type": "code",
   "execution_count": 98,
   "metadata": {},
   "outputs": [
    {
     "data": {
      "text/plain": [
       "('a', 'txt')"
      ]
     },
     "execution_count": 98,
     "metadata": {},
     "output_type": "execute_result"
    }
   ],
   "source": [
    "head"
   ]
  },
  {
   "cell_type": "code",
   "execution_count": 96,
   "metadata": {},
   "outputs": [
    {
     "data": {
      "text/plain": [
       "'txt'"
      ]
     },
     "execution_count": 96,
     "metadata": {},
     "output_type": "execute_result"
    }
   ],
   "source": [
    "tail"
   ]
  },
  {
   "cell_type": "code",
   "execution_count": null,
   "metadata": {},
   "outputs": [],
   "source": []
  }
 ],
 "metadata": {
  "kernelspec": {
   "display_name": "Python 3",
   "language": "python",
   "name": "python3"
  },
  "language_info": {
   "codemirror_mode": {
    "name": "ipython",
    "version": 3
   },
   "file_extension": ".py",
   "mimetype": "text/x-python",
   "name": "python",
   "nbconvert_exporter": "python",
   "pygments_lexer": "ipython3",
   "version": "3.11.4"
  }
 },
 "nbformat": 4,
 "nbformat_minor": 2
}
