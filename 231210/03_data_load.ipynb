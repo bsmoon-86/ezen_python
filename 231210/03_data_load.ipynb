{
 "cells": [
  {
   "cell_type": "code",
   "execution_count": null,
   "metadata": {},
   "outputs": [],
   "source": [
    "import pandas as pd"
   ]
  },
  {
   "cell_type": "markdown",
   "metadata": {},
   "source": [
    "### csv 폴더 안에 있는 모든 파일을 하나의 데이터프레임으로 결합\n",
    "1. 일반적인 방법 -> 12번 파일을 로드 -> concat()이용하여 행 결합\n",
    "2. 반복문을 이용?"
   ]
  },
  {
   "cell_type": "code",
   "execution_count": null,
   "metadata": {},
   "outputs": [],
   "source": [
    "df01 = pd.read_csv('../csv/2017/201701_expense_list.csv')\n",
    "df01.head()"
   ]
  },
  {
   "cell_type": "code",
   "execution_count": 3,
   "metadata": {},
   "outputs": [],
   "source": [
    "import os"
   ]
  },
  {
   "cell_type": "code",
   "execution_count": 4,
   "metadata": {},
   "outputs": [
    {
     "data": {
      "text/plain": [
       "['201701_expense_list.csv',\n",
       " '201702_expense_list.csv',\n",
       " '201703_expense_list.csv',\n",
       " '201704_expense_list.csv',\n",
       " '201705_expense_list.csv',\n",
       " '201706_expense_list.csv',\n",
       " '201707_expense_list.csv',\n",
       " '201708_expense_list.csv',\n",
       " '201709_expense_list.csv',\n",
       " '201710_expense_list.csv',\n",
       " '201711_expense_list.csv',\n",
       " '201712_expense_list.csv']"
      ]
     },
     "execution_count": 4,
     "metadata": {},
     "output_type": "execute_result"
    }
   ],
   "source": [
    "os.listdir(\"../csv/2017/\")"
   ]
  }
 ],
 "metadata": {
  "kernelspec": {
   "display_name": "Python 3",
   "language": "python",
   "name": "python3"
  },
  "language_info": {
   "codemirror_mode": {
    "name": "ipython",
    "version": 3
   },
   "file_extension": ".py",
   "mimetype": "text/x-python",
   "name": "python",
   "nbconvert_exporter": "python",
   "pygments_lexer": "ipython3",
   "version": "3.11.4"
  }
 },
 "nbformat": 4,
 "nbformat_minor": 2
}
