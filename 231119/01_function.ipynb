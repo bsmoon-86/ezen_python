{
 "cells": [
  {
   "cell_type": "markdown",
   "metadata": {},
   "source": [
    "### 반복문 복습 문제\n",
    "- 페르마의 마지막 정리를 증명하자\n",
    "    > a<sup>n</sup> + b<sup>n</sup> = c<sup>n</sup> 이라는 수식에서 n의 값이 2보다 큰 자연수이면, a, b, c의 자연수는 존재하지 않는다. \n",
    "\n",
    "    > n의 값이 3인 경우 a, b, c가 1부터 10까지 대입하였을때 이 정리가 사실임을 증명하시오    "
   ]
  },
  {
   "cell_type": "code",
   "execution_count": 1,
   "metadata": {},
   "outputs": [
    {
     "name": "stdout",
     "output_type": "stream",
     "text": [
      "[]\n"
     ]
    }
   ],
   "source": [
    "# 비어있는 리스트를 하나 생성\n",
    "result = []\n",
    "# 1번 for문을 생성 : a의 값의 경우의 수 1부터 10까지 반복\n",
    "for a in range(1, 11, 1):\n",
    "    # 2번 for문을 생성 : b의 값의 경우의 수 1부터 10까지 반복\n",
    "    for b in range(1, 11, 1):\n",
    "        # 3번 for문을 생성 : c의 값의 경우의 수 1부터 10까지 반복\n",
    "        for c in range(1, 11, 1):\n",
    "            # 조건문 a**3 + b**3이 c**3과 같은가?\n",
    "            if a**3 + b**3 == c**3:    \n",
    "                # 해당하는 조건식이 참이라면 위에서 생성한 비어있는 리스트에 a, b, c의 값을 추가\n",
    "                result.append( [a,b,c] )\n",
    "# 리스트 출력\n",
    "print(result)"
   ]
  },
  {
   "cell_type": "markdown",
   "metadata": {},
   "source": [
    "### python 내장 함수"
   ]
  },
  {
   "cell_type": "code",
   "execution_count": 2,
   "metadata": {},
   "outputs": [
    {
     "name": "stdout",
     "output_type": "stream",
     "text": [
      "5\n"
     ]
    }
   ],
   "source": [
    "a = 'Hello'\n",
    "\n",
    "# 문자열의 길이를 출력하는 함수 \n",
    "print(len(a))"
   ]
  },
  {
   "cell_type": "code",
   "execution_count": 3,
   "metadata": {},
   "outputs": [
    {
     "name": "stdout",
     "output_type": "stream",
     "text": [
      "5\n"
     ]
    }
   ],
   "source": [
    "a_list = [2, 3, 5, 7, 10]\n",
    "\n",
    "print(len(a_list))"
   ]
  },
  {
   "cell_type": "code",
   "execution_count": 4,
   "metadata": {},
   "outputs": [
    {
     "name": "stdout",
     "output_type": "stream",
     "text": [
      "HELLO\n",
      "hello\n"
     ]
    }
   ],
   "source": [
    "# 문자열을 모두 대문자로 변경 \n",
    "print(a.upper())\n",
    "# 문자열을 모두 소문자로 변경\n",
    "print(a.lower())"
   ]
  },
  {
   "cell_type": "code",
   "execution_count": 6,
   "metadata": {},
   "outputs": [
    {
     "name": "stdout",
     "output_type": "stream",
     "text": [
      "hELLO WORLD\n",
      "Hello World\n"
     ]
    }
   ],
   "source": [
    "b = \"Hello world\"\n",
    "\n",
    "# 대문자를 소문자로, 소문자를 대문자로 변경\n",
    "print(b.swapcase())\n",
    "# 단어의 첫 글자만 대문자로 변경\n",
    "print(b.title())"
   ]
  },
  {
   "cell_type": "code",
   "execution_count": 8,
   "metadata": {},
   "outputs": [
    {
     "data": {
      "text/plain": [
       "'   Hello world    '"
      ]
     },
     "execution_count": 8,
     "metadata": {},
     "output_type": "execute_result"
    }
   ],
   "source": [
    "a = '   Hello world    '\n",
    "\n",
    "a"
   ]
  },
  {
   "cell_type": "code",
   "execution_count": 9,
   "metadata": {},
   "outputs": [
    {
     "data": {
      "text/plain": [
       "'Hello world    '"
      ]
     },
     "execution_count": 9,
     "metadata": {},
     "output_type": "execute_result"
    }
   ],
   "source": [
    "# 공백을 제거하는 함수 \n",
    "\n",
    "# 좌측의 공백을 제거 \n",
    "a.lstrip()"
   ]
  },
  {
   "cell_type": "code",
   "execution_count": 10,
   "metadata": {},
   "outputs": [
    {
     "data": {
      "text/plain": [
       "'   Hello world'"
      ]
     },
     "execution_count": 10,
     "metadata": {},
     "output_type": "execute_result"
    }
   ],
   "source": [
    "# 우측의 공백을 제거 \n",
    "a.rstrip()"
   ]
  },
  {
   "cell_type": "code",
   "execution_count": 11,
   "metadata": {},
   "outputs": [
    {
     "data": {
      "text/plain": [
       "'Hello world'"
      ]
     },
     "execution_count": 11,
     "metadata": {},
     "output_type": "execute_result"
    }
   ],
   "source": [
    "# 좌우의 공백을 제거 \n",
    "a.strip()"
   ]
  },
  {
   "cell_type": "code",
   "execution_count": 12,
   "metadata": {},
   "outputs": [
    {
     "data": {
      "text/plain": [
       "'   Hi world    '"
      ]
     },
     "execution_count": 12,
     "metadata": {},
     "output_type": "execute_result"
    }
   ],
   "source": [
    "# 특정 문자를 다른 문자로 대체하는 함수 \n",
    "a.replace('Hello', 'Hi')"
   ]
  },
  {
   "cell_type": "code",
   "execution_count": 13,
   "metadata": {},
   "outputs": [
    {
     "data": {
      "text/plain": [
       "'Helloworld'"
      ]
     },
     "execution_count": 13,
     "metadata": {},
     "output_type": "execute_result"
    }
   ],
   "source": [
    "# replace를 이용하여 공백을 제거 \n",
    "a.replace(\" \", \"\")"
   ]
  },
  {
   "cell_type": "code",
   "execution_count": 14,
   "metadata": {},
   "outputs": [
    {
     "data": {
      "text/plain": [
       "'%data%'"
      ]
     },
     "execution_count": 14,
     "metadata": {},
     "output_type": "execute_result"
    }
   ],
   "source": [
    "b = '%data%'\n",
    "b"
   ]
  },
  {
   "cell_type": "code",
   "execution_count": 15,
   "metadata": {},
   "outputs": [
    {
     "data": {
      "text/plain": [
       "'data'"
      ]
     },
     "execution_count": 15,
     "metadata": {},
     "output_type": "execute_result"
    }
   ],
   "source": [
    "# 특정한 문자열를 제거 \n",
    "b.strip('%')"
   ]
  },
  {
   "cell_type": "code",
   "execution_count": 16,
   "metadata": {},
   "outputs": [
    {
     "data": {
      "text/plain": [
       "['a', 'b', 'c', 'd']"
      ]
     },
     "execution_count": 16,
     "metadata": {},
     "output_type": "execute_result"
    }
   ],
   "source": [
    "b = 'a&b&c&d'\n",
    "\n",
    "# 특정한 문자열을 기준으로 문자를 나눠서 배열 생성\n",
    "b.split('&')"
   ]
  },
  {
   "cell_type": "code",
   "execution_count": 17,
   "metadata": {},
   "outputs": [
    {
     "name": "stdout",
     "output_type": "stream",
     "text": [
      "4\n",
      "4\n"
     ]
    }
   ],
   "source": [
    "a = 'Hello world'\n",
    "\n",
    "# 특정한 문자열의 위치를 찾는 함수 \n",
    "print(a.find('o'))\n",
    "print(a.index('o'))"
   ]
  },
  {
   "cell_type": "code",
   "execution_count": 18,
   "metadata": {},
   "outputs": [
    {
     "name": "stdout",
     "output_type": "stream",
     "text": [
      "-1\n"
     ]
    },
    {
     "ename": "ValueError",
     "evalue": "substring not found",
     "output_type": "error",
     "traceback": [
      "\u001b[1;31m---------------------------------------------------------------------------\u001b[0m",
      "\u001b[1;31mValueError\u001b[0m                                Traceback (most recent call last)",
      "\u001b[1;32md:\\python_\\ezen_python\\231119\\01_function.ipynb 셀 18\u001b[0m line \u001b[0;36m3\n\u001b[0;32m      <a href='vscode-notebook-cell:/d%3A/python_/ezen_python/231119/01_function.ipynb#X23sZmlsZQ%3D%3D?line=0'>1</a>\u001b[0m \u001b[39m# 문자열을 찾는데 해당하는 문자열이 존재하는 않는 경우\u001b[39;00m\n\u001b[0;32m      <a href='vscode-notebook-cell:/d%3A/python_/ezen_python/231119/01_function.ipynb#X23sZmlsZQ%3D%3D?line=1'>2</a>\u001b[0m \u001b[39mprint\u001b[39m(a\u001b[39m.\u001b[39mfind(\u001b[39m'\u001b[39m\u001b[39ma\u001b[39m\u001b[39m'\u001b[39m))\n\u001b[1;32m----> <a href='vscode-notebook-cell:/d%3A/python_/ezen_python/231119/01_function.ipynb#X23sZmlsZQ%3D%3D?line=2'>3</a>\u001b[0m \u001b[39mprint\u001b[39m(a\u001b[39m.\u001b[39;49mindex(\u001b[39m'\u001b[39;49m\u001b[39ma\u001b[39;49m\u001b[39m'\u001b[39;49m))\n",
      "\u001b[1;31mValueError\u001b[0m: substring not found"
     ]
    }
   ],
   "source": [
    "# 문자열을 찾는데 해당하는 문자열이 존재하는 않는 경우\n",
    "print(a.find('a'))\n",
    "print(a.index('a'))"
   ]
  },
  {
   "cell_type": "code",
   "execution_count": 21,
   "metadata": {},
   "outputs": [
    {
     "name": "stdout",
     "output_type": "stream",
     "text": [
      "5\n",
      "1\n"
     ]
    }
   ],
   "source": [
    "# 최대값, 최소값\n",
    "b_list = [1, 2, 3, 4, 5]\n",
    "\n",
    "# 최대값\n",
    "print(max(b_list))\n",
    "# 최소값\n",
    "print(min(b_list))"
   ]
  },
  {
   "cell_type": "markdown",
   "metadata": {},
   "source": [
    "### 함수 \n",
    "- 어떠한 입력값을 가지고 작업을 실행하고 결과를 되돌려주는 행동한다. "
   ]
  },
  {
   "cell_type": "code",
   "execution_count": 22,
   "metadata": {},
   "outputs": [],
   "source": [
    "# 매개변수가 존재하지 않는 함수 생성 \n",
    "def func_1():\n",
    "    result = 'Hello'\n",
    "    return result"
   ]
  },
  {
   "cell_type": "code",
   "execution_count": 23,
   "metadata": {},
   "outputs": [
    {
     "name": "stdout",
     "output_type": "stream",
     "text": [
      "Hello\n",
      "Hello\n",
      "Hello\n"
     ]
    }
   ],
   "source": [
    "print(func_1())\n",
    "print(func_1())\n",
    "print(func_1())"
   ]
  },
  {
   "cell_type": "code",
   "execution_count": 24,
   "metadata": {},
   "outputs": [],
   "source": [
    "# 매개변수가 존재하는 함수 생성\n",
    "def func_2(a, b):\n",
    "    result = a + b\n",
    "    return result"
   ]
  },
  {
   "cell_type": "code",
   "execution_count": 25,
   "metadata": {},
   "outputs": [
    {
     "name": "stdout",
     "output_type": "stream",
     "text": [
      "8\n",
      "11\n",
      "HelloWorld\n"
     ]
    }
   ],
   "source": [
    "print(func_2(5, 3))\n",
    "print(func_2(1, 10))\n",
    "print(func_2('Hello', 'World'))"
   ]
  },
  {
   "cell_type": "code",
   "execution_count": 26,
   "metadata": {},
   "outputs": [
    {
     "ename": "TypeError",
     "evalue": "func_2() missing 1 required positional argument: 'b'",
     "output_type": "error",
     "traceback": [
      "\u001b[1;31m---------------------------------------------------------------------------\u001b[0m",
      "\u001b[1;31mTypeError\u001b[0m                                 Traceback (most recent call last)",
      "\u001b[1;32md:\\python_\\ezen_python\\231119\\01_function.ipynb 셀 25\u001b[0m line \u001b[0;36m1\n\u001b[1;32m----> <a href='vscode-notebook-cell:/d%3A/python_/ezen_python/231119/01_function.ipynb#X33sZmlsZQ%3D%3D?line=0'>1</a>\u001b[0m \u001b[39mprint\u001b[39m(func_2(\u001b[39m1\u001b[39;49m))\n",
      "\u001b[1;31mTypeError\u001b[0m: func_2() missing 1 required positional argument: 'b'"
     ]
    }
   ],
   "source": [
    "print(func_2(1))"
   ]
  },
  {
   "cell_type": "code",
   "execution_count": 27,
   "metadata": {},
   "outputs": [
    {
     "ename": "TypeError",
     "evalue": "func_2() takes 2 positional arguments but 3 were given",
     "output_type": "error",
     "traceback": [
      "\u001b[1;31m---------------------------------------------------------------------------\u001b[0m",
      "\u001b[1;31mTypeError\u001b[0m                                 Traceback (most recent call last)",
      "\u001b[1;32md:\\python_\\ezen_python\\231119\\01_function.ipynb 셀 26\u001b[0m line \u001b[0;36m1\n\u001b[1;32m----> <a href='vscode-notebook-cell:/d%3A/python_/ezen_python/231119/01_function.ipynb#X34sZmlsZQ%3D%3D?line=0'>1</a>\u001b[0m \u001b[39mprint\u001b[39m(func_2(\u001b[39m1\u001b[39;49m, \u001b[39m2\u001b[39;49m, \u001b[39m3\u001b[39;49m))\n",
      "\u001b[1;31mTypeError\u001b[0m: func_2() takes 2 positional arguments but 3 were given"
     ]
    }
   ],
   "source": [
    "print(func_2(1, 2, 3))"
   ]
  },
  {
   "cell_type": "code",
   "execution_count": 28,
   "metadata": {},
   "outputs": [],
   "source": [
    "# 인자의 개수가 가변인 경우 \n",
    "def func_3(*args):\n",
    "    result = max(args)\n",
    "    return result"
   ]
  },
  {
   "cell_type": "code",
   "execution_count": 30,
   "metadata": {},
   "outputs": [
    {
     "name": "stdout",
     "output_type": "stream",
     "text": [
      "10\n",
      "15\n",
      "100\n"
     ]
    }
   ],
   "source": [
    "print(func_3(1, 5, 10))\n",
    "print(func_3(7, 15))\n",
    "print(func_3(10, 30, 100, 3))"
   ]
  },
  {
   "cell_type": "code",
   "execution_count": 31,
   "metadata": {},
   "outputs": [],
   "source": [
    "def func_4(a):\n",
    "    result = max(a)\n",
    "    return result"
   ]
  },
  {
   "cell_type": "code",
   "execution_count": 32,
   "metadata": {},
   "outputs": [
    {
     "name": "stdout",
     "output_type": "stream",
     "text": [
      "6\n",
      "6\n",
      "101\n"
     ]
    }
   ],
   "source": [
    "print(func_4([3, 6, 2]))\n",
    "print(func_4([6, 1]))\n",
    "print(func_4([10, 100, 30, 60, 101]))"
   ]
  },
  {
   "cell_type": "code",
   "execution_count": 33,
   "metadata": {},
   "outputs": [],
   "source": [
    "def func_5(a, b = 3):\n",
    "    result = a * b\n",
    "    return result"
   ]
  },
  {
   "cell_type": "code",
   "execution_count": 34,
   "metadata": {},
   "outputs": [
    {
     "name": "stdout",
     "output_type": "stream",
     "text": [
      "12\n",
      "28\n"
     ]
    }
   ],
   "source": [
    "print(func_5(4))\n",
    "print(func_5(4, 7))"
   ]
  },
  {
   "cell_type": "code",
   "execution_count": 35,
   "metadata": {},
   "outputs": [],
   "source": [
    "def func_6(a = 5, b = 2):\n",
    "    result = a / b\n",
    "    return result"
   ]
  },
  {
   "cell_type": "code",
   "execution_count": 36,
   "metadata": {},
   "outputs": [
    {
     "name": "stdout",
     "output_type": "stream",
     "text": [
      "2.5\n",
      "5.0\n",
      "6.666666666666667\n"
     ]
    }
   ],
   "source": [
    "print(func_6())\n",
    "print(func_6(10))\n",
    "print(func_6(20, 3))"
   ]
  },
  {
   "cell_type": "code",
   "execution_count": 37,
   "metadata": {},
   "outputs": [
    {
     "name": "stdout",
     "output_type": "stream",
     "text": [
      "1.6666666666666667\n"
     ]
    }
   ],
   "source": [
    "print(func_6(b = 3))"
   ]
  },
  {
   "cell_type": "code",
   "execution_count": 39,
   "metadata": {},
   "outputs": [
    {
     "data": {
      "text/plain": [
       "15"
      ]
     },
     "execution_count": 39,
     "metadata": {},
     "output_type": "execute_result"
    }
   ],
   "source": [
    "sum([1, 2, 3, 4, 5])"
   ]
  },
  {
   "cell_type": "code",
   "execution_count": 40,
   "metadata": {},
   "outputs": [],
   "source": [
    "# 함수를 하나 생성 (매개변수(x, y) 2개)\n",
    "# x부터 y까지의 합을 되돌려주는 함수 \n",
    "\n",
    "# 함수 생성\n",
    "def func_7(x, y):\n",
    "    # 합계 라는 변수를 생성\n",
    "    result = 0\n",
    "    # 반복문을 생성 \n",
    "    for i in range(x, y+1, 1):\n",
    "        result += i\n",
    "        # result = result + i\n",
    "    return result"
   ]
  },
  {
   "cell_type": "code",
   "execution_count": 41,
   "metadata": {},
   "outputs": [
    {
     "name": "stdout",
     "output_type": "stream",
     "text": [
      "55\n",
      "5050\n"
     ]
    }
   ],
   "source": [
    "print(func_7(1, 10))\n",
    "print(func_7(1, 100))"
   ]
  },
  {
   "cell_type": "code",
   "execution_count": 42,
   "metadata": {},
   "outputs": [
    {
     "name": "stdout",
     "output_type": "stream",
     "text": [
      "0\n"
     ]
    }
   ],
   "source": [
    "print(func_7(10, 1))"
   ]
  },
  {
   "cell_type": "code",
   "execution_count": 43,
   "metadata": {},
   "outputs": [],
   "source": [
    "def func_8(x, y):\n",
    "    result = 0\n",
    "    # x와 y가 누가 더 큰지 비교\n",
    "    if(x > y):\n",
    "        for i in range(y, x+1, 1):\n",
    "            result += i\n",
    "    else:\n",
    "        for i in range(x, y+1, 1):\n",
    "            result += i\n",
    "    return result"
   ]
  },
  {
   "cell_type": "code",
   "execution_count": 44,
   "metadata": {},
   "outputs": [
    {
     "name": "stdout",
     "output_type": "stream",
     "text": [
      "55\n",
      "55\n"
     ]
    }
   ],
   "source": [
    "print(func_8(1, 10))\n",
    "print(func_8(10, 1))"
   ]
  },
  {
   "cell_type": "code",
   "execution_count": 45,
   "metadata": {},
   "outputs": [],
   "source": [
    "def func_9(x, y):\n",
    "    result = 0\n",
    "\n",
    "    while x <= y:\n",
    "        result += x\n",
    "        x += 1\n",
    "    return result"
   ]
  },
  {
   "cell_type": "code",
   "execution_count": 46,
   "metadata": {},
   "outputs": [
    {
     "name": "stdout",
     "output_type": "stream",
     "text": [
      "55\n",
      "5050\n"
     ]
    }
   ],
   "source": [
    "print(func_9(1, 10))\n",
    "print(func_9(1, 100))"
   ]
  },
  {
   "cell_type": "code",
   "execution_count": 47,
   "metadata": {},
   "outputs": [],
   "source": [
    "def func_10(x, y):\n",
    "    result = 0\n",
    "    i = min(x, y)\n",
    "    while i <= max(x, y):\n",
    "        result += i\n",
    "        i += 1\n",
    "    return result"
   ]
  },
  {
   "cell_type": "code",
   "execution_count": 48,
   "metadata": {},
   "outputs": [
    {
     "name": "stdout",
     "output_type": "stream",
     "text": [
      "55\n",
      "55\n"
     ]
    }
   ],
   "source": [
    "print(func_10(1, 10))\n",
    "print(func_10(10, 1))"
   ]
  },
  {
   "cell_type": "code",
   "execution_count": 51,
   "metadata": {},
   "outputs": [],
   "source": [
    "### 예제문제\n",
    "### 평균을 구하는 함수 하나 생성\n",
    "\n",
    "### 함수 생성 (매개변수는 가변인 경우)\n",
    "def mean(*args):\n",
    "    # 매개변수의 길이를 변수에 대입 \n",
    "    _len = len(args)\n",
    "    # 매개변수의 값들을 모두 합\n",
    "    # _sum = 0\n",
    "    # for i in args:\n",
    "    #     _sum += i\n",
    "    _sum = sum(args)\n",
    "    # 모든 합 데이터와 길이를 나눠준다. \n",
    "    result = _sum / _len\n",
    "    # 위의 결과를 되돌려준다. \n",
    "    return result"
   ]
  },
  {
   "cell_type": "code",
   "execution_count": 52,
   "metadata": {},
   "outputs": [
    {
     "name": "stdout",
     "output_type": "stream",
     "text": [
      "3.0\n",
      "5.5\n"
     ]
    }
   ],
   "source": [
    "print(mean(1, 2, 3, 4, 5))\n",
    "print(mean(1, 2, 3, 4, 5, 6, 7, 8, 9, 10))"
   ]
  },
  {
   "cell_type": "code",
   "execution_count": 55,
   "metadata": {},
   "outputs": [
    {
     "name": "stdout",
     "output_type": "stream",
     "text": [
      "10\n",
      "4\n",
      "7\n",
      "40\n",
      "-------------------------\n",
      "10\n",
      "4\n",
      "7\n",
      "40\n"
     ]
    }
   ],
   "source": [
    "a = [10, 4, 7, 40]\n",
    "\n",
    "for i in range(0, len(a), 1):\n",
    "    print(a[i])\n",
    "\n",
    "print('-------------------------')\n",
    "\n",
    "for i in a:\n",
    "    print(i)"
   ]
  },
  {
   "cell_type": "code",
   "execution_count": 58,
   "metadata": {},
   "outputs": [],
   "source": [
    "## 배열 데이터에서 각각의 원소들의 값들을 제곱하여 새로운 배열 데이터를 생성하는 함수 \n",
    "def func_11(_list):\n",
    "    # 비어있는 배열 생성\n",
    "    result = []\n",
    "    # 매개변수의 각 원소들을 제곱하여 새로운 result에 추가 \n",
    "    # 반복문을 이용하여 각 원소들을 출력 \n",
    "    # for i in range(0, len(_list), 1):\n",
    "        # i는 배열 데이터의 위치값\n",
    "        # result.append(a[i]**2)\n",
    "    for i in _list:\n",
    "        # i는 _list의 각 원소의 값\n",
    "        result.append(i**2)\n",
    "    return result"
   ]
  },
  {
   "cell_type": "code",
   "execution_count": 59,
   "metadata": {},
   "outputs": [
    {
     "name": "stdout",
     "output_type": "stream",
     "text": [
      "[1, 4, 9, 16]\n"
     ]
    }
   ],
   "source": [
    "print(func_11( [1, 2, 3, 4] ))"
   ]
  },
  {
   "cell_type": "code",
   "execution_count": 60,
   "metadata": {},
   "outputs": [
    {
     "data": {
      "text/plain": [
       "[1, 4, 9, 16]"
      ]
     },
     "execution_count": 60,
     "metadata": {},
     "output_type": "execute_result"
    }
   ],
   "source": [
    "# map() : 배열데이터에서 각 원소들을 함수에 입력값으로 호출하여 새로운 배열로 생성 \n",
    "\n",
    "def func_12(x):\n",
    "    return x ** 2\n",
    "\n",
    "# map( 호출할 함수명, 배열 데이터 )\n",
    "list(\n",
    "    map(\n",
    "        func_12, \n",
    "        [1,2,3,4]\n",
    "    )\n",
    ")"
   ]
  },
  {
   "cell_type": "code",
   "execution_count": 61,
   "metadata": {},
   "outputs": [
    {
     "data": {
      "text/plain": [
       "[1, 4, 9, 16]"
      ]
     },
     "execution_count": 61,
     "metadata": {},
     "output_type": "execute_result"
    }
   ],
   "source": [
    "list(\n",
    "    map(\n",
    "        lambda x : x**2, \n",
    "        [1,2,3,4]\n",
    "    )\n",
    ")"
   ]
  },
  {
   "cell_type": "markdown",
   "metadata": {},
   "source": [
    "# 변수의 종류\n",
    "1. 전역 변수 \n",
    "    - 어디서든 사용이 가능한 변수 \n",
    "    - 함수 내부나 외부에서 사용이 가능하다. \n",
    "2. 지역 변수 \n",
    "    - 특정한 영역에서만 사용이 가능한 변수 \n",
    "    - 함수, 클래스 내부에서만 사용이 가능한 변수 \n",
    "    - 해당하는 영역을 벗어나면 사용이 불가능\n",
    "3. 매개 변수 \n",
    "    - 함수를 생성할 때 사용하는 변수의 이름 \n",
    "    - 해당하는 함수에서만 사용이 가능\n",
    "    - 매개변수는 지역 변수 중 하나"
   ]
  },
  {
   "cell_type": "code",
   "execution_count": 62,
   "metadata": {},
   "outputs": [],
   "source": [
    "# 전역 변수를 생성 \n",
    "variable = \"Hello\""
   ]
  },
  {
   "cell_type": "code",
   "execution_count": 63,
   "metadata": {},
   "outputs": [
    {
     "name": "stdout",
     "output_type": "stream",
     "text": [
      "Hello\n"
     ]
    }
   ],
   "source": [
    "print(variable)"
   ]
  },
  {
   "cell_type": "code",
   "execution_count": 67,
   "metadata": {},
   "outputs": [],
   "source": [
    "def func_13(input_a, input_b):\n",
    "    print(input_a)\n",
    "    func_result = input_a + input_b\n",
    "    return func_result"
   ]
  },
  {
   "cell_type": "code",
   "execution_count": 68,
   "metadata": {},
   "outputs": [
    {
     "name": "stdout",
     "output_type": "stream",
     "text": [
      "5\n",
      "7\n"
     ]
    }
   ],
   "source": [
    "print(func_13(5, 2))"
   ]
  },
  {
   "cell_type": "code",
   "execution_count": 69,
   "metadata": {},
   "outputs": [
    {
     "ename": "NameError",
     "evalue": "name 'func_result' is not defined",
     "output_type": "error",
     "traceback": [
      "\u001b[1;31m---------------------------------------------------------------------------\u001b[0m",
      "\u001b[1;31mNameError\u001b[0m                                 Traceback (most recent call last)",
      "\u001b[1;32md:\\python_\\ezen_python\\231119\\01_function.ipynb 셀 58\u001b[0m line \u001b[0;36m1\n\u001b[1;32m----> <a href='vscode-notebook-cell:/d%3A/python_/ezen_python/231119/01_function.ipynb#Y111sZmlsZQ%3D%3D?line=0'>1</a>\u001b[0m \u001b[39mprint\u001b[39m(func_result)\n",
      "\u001b[1;31mNameError\u001b[0m: name 'func_result' is not defined"
     ]
    }
   ],
   "source": [
    "print(func_result)"
   ]
  },
  {
   "cell_type": "code",
   "execution_count": null,
   "metadata": {},
   "outputs": [],
   "source": []
  }
 ],
 "metadata": {
  "kernelspec": {
   "display_name": "Python 3",
   "language": "python",
   "name": "python3"
  },
  "language_info": {
   "codemirror_mode": {
    "name": "ipython",
    "version": 3
   },
   "file_extension": ".py",
   "mimetype": "text/x-python",
   "name": "python",
   "nbconvert_exporter": "python",
   "pygments_lexer": "ipython3",
   "version": "3.11.4"
  }
 },
 "nbformat": 4,
 "nbformat_minor": 2
}
