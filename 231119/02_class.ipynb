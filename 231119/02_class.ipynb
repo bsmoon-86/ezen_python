{
 "cells": [
  {
   "cell_type": "markdown",
   "metadata": {},
   "source": [
    "# class \n",
    "1. 변수 + 함수 모음\n",
    "2. 하나의 저장 공간 안에 변수들과 함수들을 선언 "
   ]
  },
  {
   "cell_type": "code",
   "execution_count": 1,
   "metadata": {},
   "outputs": [],
   "source": [
    "# 클래스를 선언\n",
    "class Class_1:\n",
    "    # 생성자 함수 : 클래스가 생성이 될때 최초로 한번만 실행이 되는 함수\n",
    "    # 생성자 함수는 클래스 안에서 사용할 변수에 값을 지정\n",
    "    def __init__(self, input_a, input_b):\n",
    "        self.a = input_a\n",
    "        self.b = input_b"
   ]
  },
  {
   "cell_type": "code",
   "execution_count": 2,
   "metadata": {},
   "outputs": [],
   "source": [
    "# 클래스를 생성\n",
    "test_class = Class_1(20, 10)\n",
    "test_class2 = Class_1('Hello', 'world')"
   ]
  },
  {
   "cell_type": "code",
   "execution_count": 3,
   "metadata": {},
   "outputs": [
    {
     "ename": "NameError",
     "evalue": "name 'a' is not defined",
     "output_type": "error",
     "traceback": [
      "\u001b[1;31m---------------------------------------------------------------------------\u001b[0m",
      "\u001b[1;31mNameError\u001b[0m                                 Traceback (most recent call last)",
      "\u001b[1;32md:\\python_\\ezen_python\\231119\\02_class.ipynb 셀 4\u001b[0m line \u001b[0;36m1\n\u001b[1;32m----> <a href='vscode-notebook-cell:/d%3A/python_/ezen_python/231119/02_class.ipynb#W3sZmlsZQ%3D%3D?line=0'>1</a>\u001b[0m \u001b[39mprint\u001b[39m(a)\n",
      "\u001b[1;31mNameError\u001b[0m: name 'a' is not defined"
     ]
    }
   ],
   "source": [
    "print(a)"
   ]
  },
  {
   "cell_type": "code",
   "execution_count": 4,
   "metadata": {},
   "outputs": [
    {
     "name": "stdout",
     "output_type": "stream",
     "text": [
      "20\n",
      "Hello\n"
     ]
    }
   ],
   "source": [
    "print(test_class.a)\n",
    "print(test_class2.a)"
   ]
  },
  {
   "cell_type": "code",
   "execution_count": 5,
   "metadata": {},
   "outputs": [],
   "source": [
    "# class 선언\n",
    "class Class_2:\n",
    "    def __init__(self, input_a, input_b):\n",
    "        self.a = input_a\n",
    "        self.b = input_b\n",
    "\n",
    "    def add(self):\n",
    "        result = self.a + self.b\n",
    "        return result\n",
    "    \n",
    "    def subtract(self):\n",
    "        result = self.a - self.b\n",
    "        return result"
   ]
  },
  {
   "cell_type": "code",
   "execution_count": 6,
   "metadata": {},
   "outputs": [],
   "source": [
    "# class 생성\n",
    "test_class3 = Class_2(10, 3)\n",
    "test_class4 = Class_2(20, 8)"
   ]
  },
  {
   "cell_type": "code",
   "execution_count": 7,
   "metadata": {},
   "outputs": [
    {
     "name": "stdout",
     "output_type": "stream",
     "text": [
      "13\n",
      "28\n"
     ]
    }
   ],
   "source": [
    "# class 안에 있는 함수를 호출\n",
    "print(test_class3.add())\n",
    "print(test_class4.add())"
   ]
  },
  {
   "cell_type": "markdown",
   "metadata": {},
   "source": [
    "# class 선언\n",
    "1. class의 이름은 User\n",
    "2. 생성자 함수에서 유저의 이름, 생년월일, 휴대폰번호 입력 값으로 받아서 변수에 저장\n",
    "3. info() 함수를 이용하여 유저의 정보를 출력"
   ]
  },
  {
   "cell_type": "code",
   "execution_count": 98,
   "metadata": {},
   "outputs": [],
   "source": [
    "class User:\n",
    "    # 클래스 변수 생성\n",
    "    # 같은 클래스를 생성하는 경우 공유할 수 있는 변수\n",
    "    user_list = []\n",
    "    def __init__(self, _name, _birth, _phone):\n",
    "        self.name = _name\n",
    "        self.birth = _birth\n",
    "        self.phone = _phone\n",
    "        self.user_list.append(_name)\n",
    "    \n",
    "    def info(self):\n",
    "        # return 'name : '+self.name+'birth : '+self.birth+'phone : '+self.phone\n",
    "        return f'name : {self.name} birth : {self.birth} phone : {self.phone}'"
   ]
  },
  {
   "cell_type": "code",
   "execution_count": 99,
   "metadata": {},
   "outputs": [],
   "source": [
    "# class 생성 \n",
    "user1 = User('test', '900101', '01012345678')\n",
    "user2 = User('test2', '800101', '01098765432')"
   ]
  },
  {
   "cell_type": "code",
   "execution_count": 100,
   "metadata": {},
   "outputs": [
    {
     "name": "stdout",
     "output_type": "stream",
     "text": [
      "name : test birth : 900101 phone : 01012345678\n",
      "name : test2 birth : 800101 phone : 01098765432\n"
     ]
    }
   ],
   "source": [
    "print(user1.info())\n",
    "print(user2.info())"
   ]
  },
  {
   "cell_type": "code",
   "execution_count": 101,
   "metadata": {},
   "outputs": [
    {
     "name": "stdout",
     "output_type": "stream",
     "text": [
      "['test', 'test2']\n",
      "['test', 'test2']\n"
     ]
    }
   ],
   "source": [
    "print(user1.user_list)\n",
    "print(user2.user_list)"
   ]
  },
  {
   "cell_type": "markdown",
   "metadata": {},
   "source": [
    "# 지갑 클래스 선언\n",
    "1. 클래스의 이름은 Wallet(User 클래스를 상속)\n",
    "2. 생성자 함수 유저의 정보(이름, 생년월일, 휴대폰번호), 지갑의 잔액\n",
    "3. 잔액이라는 변수는 기본값을 0 지정\n",
    "4. work() 함수를 생성 : 매개변수에는 일의 종류 받고 일의 종류에 따라 지갑의 잔액 +\n",
    "5. flex() 함수를 생성 : 매개변수 구매 물품명을 받고 물품명에 따라 지갑의 잔액 -\n",
    "6. 오버라이드 : 상속받은 함수 중 해당하는 클래스에서 함수를 변경하여 사용"
   ]
  },
  {
   "cell_type": "code",
   "execution_count": 74,
   "metadata": {},
   "outputs": [],
   "source": [
    "class Wallet(User):\n",
    "    # 생성자 함수 \n",
    "    def __init__(\n",
    "            self, \n",
    "            _name, \n",
    "            _birth, \n",
    "            _phone, \n",
    "            _balance = 0\n",
    "            ):\n",
    "        # 부모 클래스에 있는 생성자 함수를 호출\n",
    "        # super() : 부모 클래스\n",
    "        super().__init__(_name, _birth, _phone)\n",
    "        self.balance = _balance\n",
    "\n",
    "    # work() 함수를 생성 : 매개변수 self, _type\n",
    "    def work(self, _type):\n",
    "        # _type에 따라서 지갑의 잔액을 변경\n",
    "        # _type이 '사무직'이라면 지갑의 잔액을 100000 증가\n",
    "        # _type이 '현장직'이라면 지갑의 잔액을 110000 증가\n",
    "        # _type이 '관리직'이라면 지갑의 잔액을 150000 증가\n",
    "        # 위의 3개의 경우가 아닌 데이터가 입력되었다면 일의 종류가 맞지 않습니다. \n",
    "        if _type == '사무직':\n",
    "            self.balance = self.balance + 100000\n",
    "        elif _type == '현장직':\n",
    "            self.balance += 110000\n",
    "        elif _type == '관리직':\n",
    "            self.balance += 150000\n",
    "        else:\n",
    "            return '일의 종류 맞지 않습니다.'\n",
    "        return f'{_type}의 일을 완료하였습니다. 현재 지갑의 잔액은 {self.balance}입니다.'\n",
    "    # 오버라이드 : 기존의 info() 함수가 하는 행동을 Wallet에서는 다른 행동으로 변경\n",
    "    def info(self):\n",
    "        return f'지갑의 소유자는 {self.name}이고 잔액은 {self.balance}입니다'\n",
    "    \n",
    "    def flex(self, _type):\n",
    "        if _type == '가방':\n",
    "            # 5000000 이 차감\n",
    "            price = 5000000\n",
    "        elif _type == '맥북':\n",
    "            # 2000000 이 차감\n",
    "            price = 2000000\n",
    "        else:\n",
    "            return '물품 종류가 존재하지 않습니다.'\n",
    "\n",
    "        if self.balance >= price:\n",
    "            self.balance -= price\n",
    "            result = f'{_type} 구매가 완료되었습니다.'\n",
    "        else:\n",
    "            result = '지갑의 잔액이 부족합니다. 일을 좀 더 하세요'\n",
    "        \n",
    "        return result"
   ]
  },
  {
   "cell_type": "code",
   "execution_count": 75,
   "metadata": {},
   "outputs": [],
   "source": [
    "## Wallet 클래스 생성\n",
    "wallet1 = Wallet('test', '800101', '01012345678')\n",
    "wallet2 = Wallet('test2', '900101', '01045678912', 500000)"
   ]
  },
  {
   "cell_type": "code",
   "execution_count": 94,
   "metadata": {},
   "outputs": [
    {
     "data": {
      "text/plain": [
       "'현장직의 일을 완료하였습니다. 현재 지갑의 잔액은 2090000입니다.'"
      ]
     },
     "execution_count": 94,
     "metadata": {},
     "output_type": "execute_result"
    }
   ],
   "source": [
    "wallet1.work('현장직')"
   ]
  },
  {
   "cell_type": "code",
   "execution_count": 17,
   "metadata": {},
   "outputs": [
    {
     "data": {
      "text/plain": [
       "'일의 종류 맞지 않습니다.'"
      ]
     },
     "execution_count": 17,
     "metadata": {},
     "output_type": "execute_result"
    }
   ],
   "source": [
    "wallet2.work('게임')"
   ]
  },
  {
   "cell_type": "code",
   "execution_count": 96,
   "metadata": {},
   "outputs": [
    {
     "data": {
      "text/plain": [
       "'지갑의 소유자는 test이고 잔액은 90000입니다'"
      ]
     },
     "execution_count": 96,
     "metadata": {},
     "output_type": "execute_result"
    }
   ],
   "source": [
    "wallet1.info()"
   ]
  },
  {
   "cell_type": "code",
   "execution_count": 95,
   "metadata": {},
   "outputs": [
    {
     "data": {
      "text/plain": [
       "'맥북 구매가 완료되었습니다.'"
      ]
     },
     "execution_count": 95,
     "metadata": {},
     "output_type": "execute_result"
    }
   ],
   "source": [
    "wallet1.flex('맥북')"
   ]
  },
  {
   "cell_type": "code",
   "execution_count": 105,
   "metadata": {},
   "outputs": [],
   "source": [
    "class Wallet(User):\n",
    "    # 클래스 변수 생성 (일의 타입, 물품명 딕셔너리)\n",
    "    work_type = {\n",
    "        '사무직' : 100000, \n",
    "        '현장직' : 110000, \n",
    "        '관리직' : 150000\n",
    "    }\n",
    "    unit_cost = {\n",
    "        '가방' : 5000000, \n",
    "        '맥북' : 2000000\n",
    "    }\n",
    "\n",
    "    # 생성자 함수 \n",
    "    def __init__(\n",
    "            self, \n",
    "            _name, \n",
    "            _birth, \n",
    "            _phone, \n",
    "            _balance = 0\n",
    "            ):\n",
    "        # 부모 클래스에 있는 생성자 함수를 호출\n",
    "        # super() : 부모 클래스\n",
    "        super().__init__(_name, _birth, _phone)\n",
    "        self.balance = _balance\n",
    "\n",
    "    # work() 함수를 생성 : 매개변수 self, _type\n",
    "    def work(self, _type):\n",
    "        if _type in self.work_type.keys():\n",
    "            self.balance += self.work_type[_type]\n",
    "        else:\n",
    "            return '일의 타입이 존재하지 않습니다.'\n",
    "        return f'{_type}의 일을 완료하였습니다. 현재 지갑의 잔액은 {self.balance}입니다.'\n",
    "    # 오버라이드 : 기존의 info() 함수가 하는 행동을 Wallet에서는 다른 행동으로 변경\n",
    "    def info(self):\n",
    "        return f'지갑의 소유자는 {self.name}이고 잔액은 {self.balance}입니다'\n",
    "    \n",
    "    def flex(self, _type):\n",
    "        if _type in self.unit_cost.keys():\n",
    "            price = self.unit_cost[_type]\n",
    "        else:\n",
    "            return '해당 물품의 정보가 존재하지 않습니다'\n",
    "\n",
    "        if self.balance >= price:\n",
    "            self.balance -= price\n",
    "            result = f'{_type} 구매가 완료되었습니다.'\n",
    "        else:\n",
    "            result = '지갑의 잔액이 부족합니다. 일을 좀 더 하세요'\n",
    "        \n",
    "        return result"
   ]
  },
  {
   "cell_type": "code",
   "execution_count": 108,
   "metadata": {},
   "outputs": [
    {
     "name": "stdout",
     "output_type": "stream",
     "text": [
      "dict_keys(['사무직', '현장직'])\n",
      "dict_values([100000, 110000])\n",
      "dict_items([('사무직', 100000), ('현장직', 110000)])\n"
     ]
    }
   ],
   "source": [
    "dict_a = {\n",
    "    '사무직' : 100000, \n",
    "    '현장직' : 110000\n",
    "}\n",
    "\n",
    "# 딕셔너리 데이터에서 key값만 출력 \n",
    "print(dict_a.keys())\n",
    "# 딕셔너리 데이터에서 value값만 출력\n",
    "print(dict_a.values())\n",
    "# 딕셔너리 데이터를 (key, value) 형태로 배열을 출력\n",
    "print(dict_a.items())\n",
    "\n",
    "# 새로운 key:value 추가 \n",
    "dict_a['관리직'] = 150000"
   ]
  },
  {
   "cell_type": "code",
   "execution_count": 109,
   "metadata": {},
   "outputs": [
    {
     "name": "stdout",
     "output_type": "stream",
     "text": [
      "True\n"
     ]
    }
   ],
   "source": [
    "print('관리직' in dict_a.keys())"
   ]
  },
  {
   "cell_type": "code",
   "execution_count": 106,
   "metadata": {},
   "outputs": [],
   "source": [
    "wallet1 = Wallet('test', '800101', '01012345678')\n",
    "wallet2 = Wallet('test2', '900101', '01012345612', 1000000)"
   ]
  },
  {
   "cell_type": "code",
   "execution_count": 107,
   "metadata": {},
   "outputs": [
    {
     "data": {
      "text/plain": [
       "'사무직의 일을 완료하였습니다. 현재 지갑의 잔액은 100000입니다.'"
      ]
     },
     "execution_count": 107,
     "metadata": {},
     "output_type": "execute_result"
    }
   ],
   "source": [
    "wallet1.work('사무직')"
   ]
  },
  {
   "cell_type": "code",
   "execution_count": 111,
   "metadata": {},
   "outputs": [],
   "source": [
    "wallet1.work_type['서비스직'] = 80000"
   ]
  },
  {
   "cell_type": "code",
   "execution_count": 112,
   "metadata": {},
   "outputs": [
    {
     "data": {
      "text/plain": [
       "{'사무직': 100000, '현장직': 110000, '관리직': 150000, '서비스직': 80000}"
      ]
     },
     "execution_count": 112,
     "metadata": {},
     "output_type": "execute_result"
    }
   ],
   "source": [
    "wallet2.work_type"
   ]
  },
  {
   "cell_type": "code",
   "execution_count": 114,
   "metadata": {},
   "outputs": [
    {
     "data": {
      "text/plain": [
       "'일의 타입이 존재하지 않습니다.'"
      ]
     },
     "execution_count": 114,
     "metadata": {},
     "output_type": "execute_result"
    }
   ],
   "source": [
    "wallet2.work('아르바이트')"
   ]
  }
 ],
 "metadata": {
  "kernelspec": {
   "display_name": "Python 3",
   "language": "python",
   "name": "python3"
  },
  "language_info": {
   "codemirror_mode": {
    "name": "ipython",
    "version": 3
   },
   "file_extension": ".py",
   "mimetype": "text/x-python",
   "name": "python",
   "nbconvert_exporter": "python",
   "pygments_lexer": "ipython3",
   "version": "3.11.4"
  }
 },
 "nbformat": 4,
 "nbformat_minor": 2
}
